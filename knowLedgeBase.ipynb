{
 "cells": [
  {
   "cell_type": "code",
   "execution_count": 75,
   "metadata": {
    "collapsed": true
   },
   "outputs": [],
   "source": [
    "import numpy as np\n",
    "import pandas as pd\n",
    "from scipy import sparse\n",
    "from ast import literal_eval"
   ]
  },
  {
   "cell_type": "code",
   "execution_count": 76,
   "outputs": [
    {
     "name": "stdout",
     "output_type": "stream",
     "text": [
      "<class 'pandas.core.frame.DataFrame'>\n",
      "RangeIndex: 45466 entries, 0 to 45465\n",
      "Data columns (total 24 columns):\n",
      " #   Column                 Non-Null Count  Dtype  \n",
      "---  ------                 --------------  -----  \n",
      " 0   adult                  45466 non-null  object \n",
      " 1   belongs_to_collection  4494 non-null   object \n",
      " 2   budget                 45466 non-null  object \n",
      " 3   genres                 45466 non-null  object \n",
      " 4   homepage               7782 non-null   object \n",
      " 5   id                     45466 non-null  object \n",
      " 6   imdb_id                45449 non-null  object \n",
      " 7   original_language      45455 non-null  object \n",
      " 8   original_title         45466 non-null  object \n",
      " 9   overview               44512 non-null  object \n",
      " 10  popularity             45461 non-null  object \n",
      " 11  poster_path            45080 non-null  object \n",
      " 12  production_companies   45463 non-null  object \n",
      " 13  production_countries   45463 non-null  object \n",
      " 14  release_date           45379 non-null  object \n",
      " 15  revenue                45460 non-null  float64\n",
      " 16  runtime                45203 non-null  float64\n",
      " 17  spoken_languages       45460 non-null  object \n",
      " 18  status                 45379 non-null  object \n",
      " 19  tagline                20412 non-null  object \n",
      " 20  title                  45460 non-null  object \n",
      " 21  video                  45460 non-null  object \n",
      " 22  vote_average           45460 non-null  float64\n",
      " 23  vote_count             45460 non-null  float64\n",
      "dtypes: float64(4), object(20)\n",
      "memory usage: 8.3+ MB\n"
     ]
    },
    {
     "name": "stderr",
     "output_type": "stream",
     "text": [
      "e:\\projects\\pythonproject\\lib\\site-packages\\IPython\\core\\interactiveshell.py:3166: DtypeWarning: Columns (10) have mixed types.Specify dtype option on import or set low_memory=False.\n",
      "  interactivity=interactivity, compiler=compiler, result=result)\n"
     ]
    }
   ],
   "source": [
    "movies = pd.read_csv(\"DataSets/movies_metadata.csv\")\n",
    "movies.info()"
   ],
   "metadata": {
    "collapsed": false,
    "pycharm": {
     "name": "#%%\n"
    }
   }
  },
  {
   "cell_type": "code",
   "execution_count": 77,
   "outputs": [
    {
     "data": {
      "text/plain": "   adult                              belongs_to_collection    budget  \\\n0  False  {'id': 10194, 'name': 'Toy Story Collection', ...  30000000   \n1  False                                                NaN  65000000   \n2  False  {'id': 119050, 'name': 'Grumpy Old Men Collect...         0   \n3  False                                                NaN  16000000   \n4  False  {'id': 96871, 'name': 'Father of the Bride Col...         0   \n5  False                                                NaN  60000000   \n6  False                                                NaN  58000000   \n7  False                                                NaN         0   \n8  False                                                NaN  35000000   \n9  False  {'id': 645, 'name': 'James Bond Collection', '...  58000000   \n\n                                              genres  \\\n0  [{'id': 16, 'name': 'Animation'}, {'id': 35, '...   \n1  [{'id': 12, 'name': 'Adventure'}, {'id': 14, '...   \n2  [{'id': 10749, 'name': 'Romance'}, {'id': 35, ...   \n3  [{'id': 35, 'name': 'Comedy'}, {'id': 18, 'nam...   \n4                     [{'id': 35, 'name': 'Comedy'}]   \n5  [{'id': 28, 'name': 'Action'}, {'id': 80, 'nam...   \n6  [{'id': 35, 'name': 'Comedy'}, {'id': 10749, '...   \n7  [{'id': 28, 'name': 'Action'}, {'id': 12, 'nam...   \n8  [{'id': 28, 'name': 'Action'}, {'id': 12, 'nam...   \n9  [{'id': 12, 'name': 'Adventure'}, {'id': 28, '...   \n\n                                       homepage     id    imdb_id  \\\n0          http://toystory.disney.com/toy-story    862  tt0114709   \n1                                           NaN   8844  tt0113497   \n2                                           NaN  15602  tt0113228   \n3                                           NaN  31357  tt0114885   \n4                                           NaN  11862  tt0113041   \n5                                           NaN    949  tt0113277   \n6                                           NaN  11860  tt0114319   \n7                                           NaN  45325  tt0112302   \n8                                           NaN   9091  tt0114576   \n9  http://www.mgm.com/view/movie/757/Goldeneye/    710  tt0113189   \n\n  original_language               original_title  \\\n0                en                    Toy Story   \n1                en                      Jumanji   \n2                en             Grumpier Old Men   \n3                en            Waiting to Exhale   \n4                en  Father of the Bride Part II   \n5                en                         Heat   \n6                en                      Sabrina   \n7                en                 Tom and Huck   \n8                en                 Sudden Death   \n9                en                    GoldenEye   \n\n                                            overview  ... release_date  \\\n0  Led by Woody, Andy's toys live happily in his ...  ...   1995-10-30   \n1  When siblings Judy and Peter discover an encha...  ...   1995-12-15   \n2  A family wedding reignites the ancient feud be...  ...   1995-12-22   \n3  Cheated on, mistreated and stepped on, the wom...  ...   1995-12-22   \n4  Just when George Banks has recovered from his ...  ...   1995-02-10   \n5  Obsessive master thief, Neil McCauley leads a ...  ...   1995-12-15   \n6  An ugly duckling having undergone a remarkable...  ...   1995-12-15   \n7  A mischievous young boy, Tom Sawyer, witnesses...  ...   1995-12-22   \n8  International action superstar Jean Claude Van...  ...   1995-12-22   \n9  James Bond must unmask the mysterious head of ...  ...   1995-11-16   \n\n       revenue runtime                                   spoken_languages  \\\n0  373554033.0    81.0           [{'iso_639_1': 'en', 'name': 'English'}]   \n1  262797249.0   104.0  [{'iso_639_1': 'en', 'name': 'English'}, {'iso...   \n2          0.0   101.0           [{'iso_639_1': 'en', 'name': 'English'}]   \n3   81452156.0   127.0           [{'iso_639_1': 'en', 'name': 'English'}]   \n4   76578911.0   106.0           [{'iso_639_1': 'en', 'name': 'English'}]   \n5  187436818.0   170.0  [{'iso_639_1': 'en', 'name': 'English'}, {'iso...   \n6          0.0   127.0  [{'iso_639_1': 'fr', 'name': 'Français'}, {'is...   \n7          0.0    97.0  [{'iso_639_1': 'en', 'name': 'English'}, {'iso...   \n8   64350171.0   106.0           [{'iso_639_1': 'en', 'name': 'English'}]   \n9  352194034.0   130.0  [{'iso_639_1': 'en', 'name': 'English'}, {'iso...   \n\n     status                                            tagline  \\\n0  Released                                                NaN   \n1  Released          Roll the dice and unleash the excitement!   \n2  Released  Still Yelling. Still Fighting. Still Ready for...   \n3  Released  Friends are the people who let you be yourself...   \n4  Released  Just When His World Is Back To Normal... He's ...   \n5  Released                           A Los Angeles Crime Saga   \n6  Released  You are cordially invited to the most surprisi...   \n7  Released                             The Original Bad Boys.   \n8  Released                         Terror goes into overtime.   \n9  Released               No limits. No fears. No substitutes.   \n\n                         title  video vote_average vote_count  \n0                    Toy Story  False          7.7     5415.0  \n1                      Jumanji  False          6.9     2413.0  \n2             Grumpier Old Men  False          6.5       92.0  \n3            Waiting to Exhale  False          6.1       34.0  \n4  Father of the Bride Part II  False          5.7      173.0  \n5                         Heat  False          7.7     1886.0  \n6                      Sabrina  False          6.2      141.0  \n7                 Tom and Huck  False          5.4       45.0  \n8                 Sudden Death  False          5.5      174.0  \n9                    GoldenEye  False          6.6     1194.0  \n\n[10 rows x 24 columns]",
      "text/html": "<div>\n<style scoped>\n    .dataframe tbody tr th:only-of-type {\n        vertical-align: middle;\n    }\n\n    .dataframe tbody tr th {\n        vertical-align: top;\n    }\n\n    .dataframe thead th {\n        text-align: right;\n    }\n</style>\n<table border=\"1\" class=\"dataframe\">\n  <thead>\n    <tr style=\"text-align: right;\">\n      <th></th>\n      <th>adult</th>\n      <th>belongs_to_collection</th>\n      <th>budget</th>\n      <th>genres</th>\n      <th>homepage</th>\n      <th>id</th>\n      <th>imdb_id</th>\n      <th>original_language</th>\n      <th>original_title</th>\n      <th>overview</th>\n      <th>...</th>\n      <th>release_date</th>\n      <th>revenue</th>\n      <th>runtime</th>\n      <th>spoken_languages</th>\n      <th>status</th>\n      <th>tagline</th>\n      <th>title</th>\n      <th>video</th>\n      <th>vote_average</th>\n      <th>vote_count</th>\n    </tr>\n  </thead>\n  <tbody>\n    <tr>\n      <th>0</th>\n      <td>False</td>\n      <td>{'id': 10194, 'name': 'Toy Story Collection', ...</td>\n      <td>30000000</td>\n      <td>[{'id': 16, 'name': 'Animation'}, {'id': 35, '...</td>\n      <td>http://toystory.disney.com/toy-story</td>\n      <td>862</td>\n      <td>tt0114709</td>\n      <td>en</td>\n      <td>Toy Story</td>\n      <td>Led by Woody, Andy's toys live happily in his ...</td>\n      <td>...</td>\n      <td>1995-10-30</td>\n      <td>373554033.0</td>\n      <td>81.0</td>\n      <td>[{'iso_639_1': 'en', 'name': 'English'}]</td>\n      <td>Released</td>\n      <td>NaN</td>\n      <td>Toy Story</td>\n      <td>False</td>\n      <td>7.7</td>\n      <td>5415.0</td>\n    </tr>\n    <tr>\n      <th>1</th>\n      <td>False</td>\n      <td>NaN</td>\n      <td>65000000</td>\n      <td>[{'id': 12, 'name': 'Adventure'}, {'id': 14, '...</td>\n      <td>NaN</td>\n      <td>8844</td>\n      <td>tt0113497</td>\n      <td>en</td>\n      <td>Jumanji</td>\n      <td>When siblings Judy and Peter discover an encha...</td>\n      <td>...</td>\n      <td>1995-12-15</td>\n      <td>262797249.0</td>\n      <td>104.0</td>\n      <td>[{'iso_639_1': 'en', 'name': 'English'}, {'iso...</td>\n      <td>Released</td>\n      <td>Roll the dice and unleash the excitement!</td>\n      <td>Jumanji</td>\n      <td>False</td>\n      <td>6.9</td>\n      <td>2413.0</td>\n    </tr>\n    <tr>\n      <th>2</th>\n      <td>False</td>\n      <td>{'id': 119050, 'name': 'Grumpy Old Men Collect...</td>\n      <td>0</td>\n      <td>[{'id': 10749, 'name': 'Romance'}, {'id': 35, ...</td>\n      <td>NaN</td>\n      <td>15602</td>\n      <td>tt0113228</td>\n      <td>en</td>\n      <td>Grumpier Old Men</td>\n      <td>A family wedding reignites the ancient feud be...</td>\n      <td>...</td>\n      <td>1995-12-22</td>\n      <td>0.0</td>\n      <td>101.0</td>\n      <td>[{'iso_639_1': 'en', 'name': 'English'}]</td>\n      <td>Released</td>\n      <td>Still Yelling. Still Fighting. Still Ready for...</td>\n      <td>Grumpier Old Men</td>\n      <td>False</td>\n      <td>6.5</td>\n      <td>92.0</td>\n    </tr>\n    <tr>\n      <th>3</th>\n      <td>False</td>\n      <td>NaN</td>\n      <td>16000000</td>\n      <td>[{'id': 35, 'name': 'Comedy'}, {'id': 18, 'nam...</td>\n      <td>NaN</td>\n      <td>31357</td>\n      <td>tt0114885</td>\n      <td>en</td>\n      <td>Waiting to Exhale</td>\n      <td>Cheated on, mistreated and stepped on, the wom...</td>\n      <td>...</td>\n      <td>1995-12-22</td>\n      <td>81452156.0</td>\n      <td>127.0</td>\n      <td>[{'iso_639_1': 'en', 'name': 'English'}]</td>\n      <td>Released</td>\n      <td>Friends are the people who let you be yourself...</td>\n      <td>Waiting to Exhale</td>\n      <td>False</td>\n      <td>6.1</td>\n      <td>34.0</td>\n    </tr>\n    <tr>\n      <th>4</th>\n      <td>False</td>\n      <td>{'id': 96871, 'name': 'Father of the Bride Col...</td>\n      <td>0</td>\n      <td>[{'id': 35, 'name': 'Comedy'}]</td>\n      <td>NaN</td>\n      <td>11862</td>\n      <td>tt0113041</td>\n      <td>en</td>\n      <td>Father of the Bride Part II</td>\n      <td>Just when George Banks has recovered from his ...</td>\n      <td>...</td>\n      <td>1995-02-10</td>\n      <td>76578911.0</td>\n      <td>106.0</td>\n      <td>[{'iso_639_1': 'en', 'name': 'English'}]</td>\n      <td>Released</td>\n      <td>Just When His World Is Back To Normal... He's ...</td>\n      <td>Father of the Bride Part II</td>\n      <td>False</td>\n      <td>5.7</td>\n      <td>173.0</td>\n    </tr>\n    <tr>\n      <th>5</th>\n      <td>False</td>\n      <td>NaN</td>\n      <td>60000000</td>\n      <td>[{'id': 28, 'name': 'Action'}, {'id': 80, 'nam...</td>\n      <td>NaN</td>\n      <td>949</td>\n      <td>tt0113277</td>\n      <td>en</td>\n      <td>Heat</td>\n      <td>Obsessive master thief, Neil McCauley leads a ...</td>\n      <td>...</td>\n      <td>1995-12-15</td>\n      <td>187436818.0</td>\n      <td>170.0</td>\n      <td>[{'iso_639_1': 'en', 'name': 'English'}, {'iso...</td>\n      <td>Released</td>\n      <td>A Los Angeles Crime Saga</td>\n      <td>Heat</td>\n      <td>False</td>\n      <td>7.7</td>\n      <td>1886.0</td>\n    </tr>\n    <tr>\n      <th>6</th>\n      <td>False</td>\n      <td>NaN</td>\n      <td>58000000</td>\n      <td>[{'id': 35, 'name': 'Comedy'}, {'id': 10749, '...</td>\n      <td>NaN</td>\n      <td>11860</td>\n      <td>tt0114319</td>\n      <td>en</td>\n      <td>Sabrina</td>\n      <td>An ugly duckling having undergone a remarkable...</td>\n      <td>...</td>\n      <td>1995-12-15</td>\n      <td>0.0</td>\n      <td>127.0</td>\n      <td>[{'iso_639_1': 'fr', 'name': 'Français'}, {'is...</td>\n      <td>Released</td>\n      <td>You are cordially invited to the most surprisi...</td>\n      <td>Sabrina</td>\n      <td>False</td>\n      <td>6.2</td>\n      <td>141.0</td>\n    </tr>\n    <tr>\n      <th>7</th>\n      <td>False</td>\n      <td>NaN</td>\n      <td>0</td>\n      <td>[{'id': 28, 'name': 'Action'}, {'id': 12, 'nam...</td>\n      <td>NaN</td>\n      <td>45325</td>\n      <td>tt0112302</td>\n      <td>en</td>\n      <td>Tom and Huck</td>\n      <td>A mischievous young boy, Tom Sawyer, witnesses...</td>\n      <td>...</td>\n      <td>1995-12-22</td>\n      <td>0.0</td>\n      <td>97.0</td>\n      <td>[{'iso_639_1': 'en', 'name': 'English'}, {'iso...</td>\n      <td>Released</td>\n      <td>The Original Bad Boys.</td>\n      <td>Tom and Huck</td>\n      <td>False</td>\n      <td>5.4</td>\n      <td>45.0</td>\n    </tr>\n    <tr>\n      <th>8</th>\n      <td>False</td>\n      <td>NaN</td>\n      <td>35000000</td>\n      <td>[{'id': 28, 'name': 'Action'}, {'id': 12, 'nam...</td>\n      <td>NaN</td>\n      <td>9091</td>\n      <td>tt0114576</td>\n      <td>en</td>\n      <td>Sudden Death</td>\n      <td>International action superstar Jean Claude Van...</td>\n      <td>...</td>\n      <td>1995-12-22</td>\n      <td>64350171.0</td>\n      <td>106.0</td>\n      <td>[{'iso_639_1': 'en', 'name': 'English'}]</td>\n      <td>Released</td>\n      <td>Terror goes into overtime.</td>\n      <td>Sudden Death</td>\n      <td>False</td>\n      <td>5.5</td>\n      <td>174.0</td>\n    </tr>\n    <tr>\n      <th>9</th>\n      <td>False</td>\n      <td>{'id': 645, 'name': 'James Bond Collection', '...</td>\n      <td>58000000</td>\n      <td>[{'id': 12, 'name': 'Adventure'}, {'id': 28, '...</td>\n      <td>http://www.mgm.com/view/movie/757/Goldeneye/</td>\n      <td>710</td>\n      <td>tt0113189</td>\n      <td>en</td>\n      <td>GoldenEye</td>\n      <td>James Bond must unmask the mysterious head of ...</td>\n      <td>...</td>\n      <td>1995-11-16</td>\n      <td>352194034.0</td>\n      <td>130.0</td>\n      <td>[{'iso_639_1': 'en', 'name': 'English'}, {'iso...</td>\n      <td>Released</td>\n      <td>No limits. No fears. No substitutes.</td>\n      <td>GoldenEye</td>\n      <td>False</td>\n      <td>6.6</td>\n      <td>1194.0</td>\n    </tr>\n  </tbody>\n</table>\n<p>10 rows × 24 columns</p>\n</div>"
     },
     "execution_count": 77,
     "metadata": {},
     "output_type": "execute_result"
    }
   ],
   "source": [
    "movies.head(10)"
   ],
   "metadata": {
    "collapsed": false,
    "pycharm": {
     "name": "#%%\n"
    }
   }
  },
  {
   "cell_type": "code",
   "execution_count": 78,
   "outputs": [
    {
     "data": {
      "text/plain": "                         title  \\\n0                    Toy Story   \n1                      Jumanji   \n2             Grumpier Old Men   \n3            Waiting to Exhale   \n4  Father of the Bride Part II   \n\n                                              genres release_date  runtime  \\\n0  [{'id': 16, 'name': 'Animation'}, {'id': 35, '...   1995-10-30     81.0   \n1  [{'id': 12, 'name': 'Adventure'}, {'id': 14, '...   1995-12-15    104.0   \n2  [{'id': 10749, 'name': 'Romance'}, {'id': 35, ...   1995-12-22    101.0   \n3  [{'id': 35, 'name': 'Comedy'}, {'id': 18, 'nam...   1995-12-22    127.0   \n4                     [{'id': 35, 'name': 'Comedy'}]   1995-02-10    106.0   \n\n   vote_average  vote_count  \n0           7.7      5415.0  \n1           6.9      2413.0  \n2           6.5        92.0  \n3           6.1        34.0  \n4           5.7       173.0  ",
      "text/html": "<div>\n<style scoped>\n    .dataframe tbody tr th:only-of-type {\n        vertical-align: middle;\n    }\n\n    .dataframe tbody tr th {\n        vertical-align: top;\n    }\n\n    .dataframe thead th {\n        text-align: right;\n    }\n</style>\n<table border=\"1\" class=\"dataframe\">\n  <thead>\n    <tr style=\"text-align: right;\">\n      <th></th>\n      <th>title</th>\n      <th>genres</th>\n      <th>release_date</th>\n      <th>runtime</th>\n      <th>vote_average</th>\n      <th>vote_count</th>\n    </tr>\n  </thead>\n  <tbody>\n    <tr>\n      <th>0</th>\n      <td>Toy Story</td>\n      <td>[{'id': 16, 'name': 'Animation'}, {'id': 35, '...</td>\n      <td>1995-10-30</td>\n      <td>81.0</td>\n      <td>7.7</td>\n      <td>5415.0</td>\n    </tr>\n    <tr>\n      <th>1</th>\n      <td>Jumanji</td>\n      <td>[{'id': 12, 'name': 'Adventure'}, {'id': 14, '...</td>\n      <td>1995-12-15</td>\n      <td>104.0</td>\n      <td>6.9</td>\n      <td>2413.0</td>\n    </tr>\n    <tr>\n      <th>2</th>\n      <td>Grumpier Old Men</td>\n      <td>[{'id': 10749, 'name': 'Romance'}, {'id': 35, ...</td>\n      <td>1995-12-22</td>\n      <td>101.0</td>\n      <td>6.5</td>\n      <td>92.0</td>\n    </tr>\n    <tr>\n      <th>3</th>\n      <td>Waiting to Exhale</td>\n      <td>[{'id': 35, 'name': 'Comedy'}, {'id': 18, 'nam...</td>\n      <td>1995-12-22</td>\n      <td>127.0</td>\n      <td>6.1</td>\n      <td>34.0</td>\n    </tr>\n    <tr>\n      <th>4</th>\n      <td>Father of the Bride Part II</td>\n      <td>[{'id': 35, 'name': 'Comedy'}]</td>\n      <td>1995-02-10</td>\n      <td>106.0</td>\n      <td>5.7</td>\n      <td>173.0</td>\n    </tr>\n  </tbody>\n</table>\n</div>"
     },
     "execution_count": 78,
     "metadata": {},
     "output_type": "execute_result"
    }
   ],
   "source": [
    "movies = movies[['title','genres', 'release_date', 'runtime', 'vote_average', 'vote_count']]\n",
    "\n",
    "movies.head(5)"
   ],
   "metadata": {
    "collapsed": false,
    "pycharm": {
     "name": "#%%\n"
    }
   }
  },
  {
   "cell_type": "code",
   "execution_count": 79,
   "outputs": [
    {
     "data": {
      "text/plain": "                         title  \\\n0                    Toy Story   \n1                      Jumanji   \n2             Grumpier Old Men   \n3            Waiting to Exhale   \n4  Father of the Bride Part II   \n\n                                              genres release_date  runtime  \\\n0  [{'id': 16, 'name': 'Animation'}, {'id': 35, '...   1995-10-30     81.0   \n1  [{'id': 12, 'name': 'Adventure'}, {'id': 14, '...   1995-12-15    104.0   \n2  [{'id': 10749, 'name': 'Romance'}, {'id': 35, ...   1995-12-22    101.0   \n3  [{'id': 35, 'name': 'Comedy'}, {'id': 18, 'nam...   1995-12-22    127.0   \n4                     [{'id': 35, 'name': 'Comedy'}]   1995-02-10    106.0   \n\n   vote_average  vote_count  year  \n0           7.7      5415.0  1995  \n1           6.9      2413.0  1995  \n2           6.5        92.0  1995  \n3           6.1        34.0  1995  \n4           5.7       173.0  1995  ",
      "text/html": "<div>\n<style scoped>\n    .dataframe tbody tr th:only-of-type {\n        vertical-align: middle;\n    }\n\n    .dataframe tbody tr th {\n        vertical-align: top;\n    }\n\n    .dataframe thead th {\n        text-align: right;\n    }\n</style>\n<table border=\"1\" class=\"dataframe\">\n  <thead>\n    <tr style=\"text-align: right;\">\n      <th></th>\n      <th>title</th>\n      <th>genres</th>\n      <th>release_date</th>\n      <th>runtime</th>\n      <th>vote_average</th>\n      <th>vote_count</th>\n      <th>year</th>\n    </tr>\n  </thead>\n  <tbody>\n    <tr>\n      <th>0</th>\n      <td>Toy Story</td>\n      <td>[{'id': 16, 'name': 'Animation'}, {'id': 35, '...</td>\n      <td>1995-10-30</td>\n      <td>81.0</td>\n      <td>7.7</td>\n      <td>5415.0</td>\n      <td>1995</td>\n    </tr>\n    <tr>\n      <th>1</th>\n      <td>Jumanji</td>\n      <td>[{'id': 12, 'name': 'Adventure'}, {'id': 14, '...</td>\n      <td>1995-12-15</td>\n      <td>104.0</td>\n      <td>6.9</td>\n      <td>2413.0</td>\n      <td>1995</td>\n    </tr>\n    <tr>\n      <th>2</th>\n      <td>Grumpier Old Men</td>\n      <td>[{'id': 10749, 'name': 'Romance'}, {'id': 35, ...</td>\n      <td>1995-12-22</td>\n      <td>101.0</td>\n      <td>6.5</td>\n      <td>92.0</td>\n      <td>1995</td>\n    </tr>\n    <tr>\n      <th>3</th>\n      <td>Waiting to Exhale</td>\n      <td>[{'id': 35, 'name': 'Comedy'}, {'id': 18, 'nam...</td>\n      <td>1995-12-22</td>\n      <td>127.0</td>\n      <td>6.1</td>\n      <td>34.0</td>\n      <td>1995</td>\n    </tr>\n    <tr>\n      <th>4</th>\n      <td>Father of the Bride Part II</td>\n      <td>[{'id': 35, 'name': 'Comedy'}]</td>\n      <td>1995-02-10</td>\n      <td>106.0</td>\n      <td>5.7</td>\n      <td>173.0</td>\n      <td>1995</td>\n    </tr>\n  </tbody>\n</table>\n</div>"
     },
     "execution_count": 79,
     "metadata": {},
     "output_type": "execute_result"
    }
   ],
   "source": [
    "movies['release_date'] = pd.to_datetime(movies['release_date'], errors='coerce')\n",
    "movies['year'] = movies['release_date'].apply(lambda x: str(x).split('-')[0] if x != np.nan else np.nan)\n",
    "movies.head(5)"
   ],
   "metadata": {
    "collapsed": false,
    "pycharm": {
     "name": "#%%\n"
    }
   }
  },
  {
   "cell_type": "code",
   "execution_count": 80,
   "outputs": [],
   "source": [
    "def convertToint(x):\n",
    "    try:\n",
    "        return int(x)\n",
    "    except:\n",
    "        return 0\n"
   ],
   "metadata": {
    "collapsed": false,
    "pycharm": {
     "name": "#%%\n"
    }
   }
  },
  {
   "cell_type": "code",
   "execution_count": 81,
   "outputs": [
    {
     "data": {
      "text/plain": "                         title  \\\n0                    Toy Story   \n1                      Jumanji   \n2             Grumpier Old Men   \n3            Waiting to Exhale   \n4  Father of the Bride Part II   \n\n                                              genres  runtime  vote_average  \\\n0  [{'id': 16, 'name': 'Animation'}, {'id': 35, '...     81.0           7.7   \n1  [{'id': 12, 'name': 'Adventure'}, {'id': 14, '...    104.0           6.9   \n2  [{'id': 10749, 'name': 'Romance'}, {'id': 35, ...    101.0           6.5   \n3  [{'id': 35, 'name': 'Comedy'}, {'id': 18, 'nam...    127.0           6.1   \n4                     [{'id': 35, 'name': 'Comedy'}]    106.0           5.7   \n\n   vote_count  year  \n0      5415.0  1995  \n1      2413.0  1995  \n2        92.0  1995  \n3        34.0  1995  \n4       173.0  1995  ",
      "text/html": "<div>\n<style scoped>\n    .dataframe tbody tr th:only-of-type {\n        vertical-align: middle;\n    }\n\n    .dataframe tbody tr th {\n        vertical-align: top;\n    }\n\n    .dataframe thead th {\n        text-align: right;\n    }\n</style>\n<table border=\"1\" class=\"dataframe\">\n  <thead>\n    <tr style=\"text-align: right;\">\n      <th></th>\n      <th>title</th>\n      <th>genres</th>\n      <th>runtime</th>\n      <th>vote_average</th>\n      <th>vote_count</th>\n      <th>year</th>\n    </tr>\n  </thead>\n  <tbody>\n    <tr>\n      <th>0</th>\n      <td>Toy Story</td>\n      <td>[{'id': 16, 'name': 'Animation'}, {'id': 35, '...</td>\n      <td>81.0</td>\n      <td>7.7</td>\n      <td>5415.0</td>\n      <td>1995</td>\n    </tr>\n    <tr>\n      <th>1</th>\n      <td>Jumanji</td>\n      <td>[{'id': 12, 'name': 'Adventure'}, {'id': 14, '...</td>\n      <td>104.0</td>\n      <td>6.9</td>\n      <td>2413.0</td>\n      <td>1995</td>\n    </tr>\n    <tr>\n      <th>2</th>\n      <td>Grumpier Old Men</td>\n      <td>[{'id': 10749, 'name': 'Romance'}, {'id': 35, ...</td>\n      <td>101.0</td>\n      <td>6.5</td>\n      <td>92.0</td>\n      <td>1995</td>\n    </tr>\n    <tr>\n      <th>3</th>\n      <td>Waiting to Exhale</td>\n      <td>[{'id': 35, 'name': 'Comedy'}, {'id': 18, 'nam...</td>\n      <td>127.0</td>\n      <td>6.1</td>\n      <td>34.0</td>\n      <td>1995</td>\n    </tr>\n    <tr>\n      <th>4</th>\n      <td>Father of the Bride Part II</td>\n      <td>[{'id': 35, 'name': 'Comedy'}]</td>\n      <td>106.0</td>\n      <td>5.7</td>\n      <td>173.0</td>\n      <td>1995</td>\n    </tr>\n  </tbody>\n</table>\n</div>"
     },
     "execution_count": 81,
     "metadata": {},
     "output_type": "execute_result"
    }
   ],
   "source": [
    "movies['year'] = movies['year'].apply(convertToint)\n",
    "movies = movies.drop('release_date', axis=1)\n",
    "movies.head(5)"
   ],
   "metadata": {
    "collapsed": false,
    "pycharm": {
     "name": "#%%\n"
    }
   }
  },
  {
   "cell_type": "code",
   "execution_count": 82,
   "outputs": [
    {
     "data": {
      "text/plain": "                         title                        genres  runtime  \\\n0                    Toy Story   [animation, comedy, family]     81.0   \n1                      Jumanji  [adventure, fantasy, family]    104.0   \n2             Grumpier Old Men             [romance, comedy]    101.0   \n3            Waiting to Exhale      [comedy, drama, romance]    127.0   \n4  Father of the Bride Part II                      [comedy]    106.0   \n\n   vote_average  vote_count  year  \n0           7.7      5415.0  1995  \n1           6.9      2413.0  1995  \n2           6.5        92.0  1995  \n3           6.1        34.0  1995  \n4           5.7       173.0  1995  ",
      "text/html": "<div>\n<style scoped>\n    .dataframe tbody tr th:only-of-type {\n        vertical-align: middle;\n    }\n\n    .dataframe tbody tr th {\n        vertical-align: top;\n    }\n\n    .dataframe thead th {\n        text-align: right;\n    }\n</style>\n<table border=\"1\" class=\"dataframe\">\n  <thead>\n    <tr style=\"text-align: right;\">\n      <th></th>\n      <th>title</th>\n      <th>genres</th>\n      <th>runtime</th>\n      <th>vote_average</th>\n      <th>vote_count</th>\n      <th>year</th>\n    </tr>\n  </thead>\n  <tbody>\n    <tr>\n      <th>0</th>\n      <td>Toy Story</td>\n      <td>[animation, comedy, family]</td>\n      <td>81.0</td>\n      <td>7.7</td>\n      <td>5415.0</td>\n      <td>1995</td>\n    </tr>\n    <tr>\n      <th>1</th>\n      <td>Jumanji</td>\n      <td>[adventure, fantasy, family]</td>\n      <td>104.0</td>\n      <td>6.9</td>\n      <td>2413.0</td>\n      <td>1995</td>\n    </tr>\n    <tr>\n      <th>2</th>\n      <td>Grumpier Old Men</td>\n      <td>[romance, comedy]</td>\n      <td>101.0</td>\n      <td>6.5</td>\n      <td>92.0</td>\n      <td>1995</td>\n    </tr>\n    <tr>\n      <th>3</th>\n      <td>Waiting to Exhale</td>\n      <td>[comedy, drama, romance]</td>\n      <td>127.0</td>\n      <td>6.1</td>\n      <td>34.0</td>\n      <td>1995</td>\n    </tr>\n    <tr>\n      <th>4</th>\n      <td>Father of the Bride Part II</td>\n      <td>[comedy]</td>\n      <td>106.0</td>\n      <td>5.7</td>\n      <td>173.0</td>\n      <td>1995</td>\n    </tr>\n  </tbody>\n</table>\n</div>"
     },
     "execution_count": 82,
     "metadata": {},
     "output_type": "execute_result"
    }
   ],
   "source": [
    "movies['genres'] = movies['genres'].fillna('[]')\n",
    "movies['genres'] = movies['genres'].apply(literal_eval)\n",
    "movies['genres'] = movies['genres'].apply(lambda x: [i['name'].lower() for i in x] if isinstance(x, list) else [])\n",
    "movies.head(5)"
   ],
   "metadata": {
    "collapsed": false,
    "pycharm": {
     "name": "#%%\n"
    }
   }
  },
  {
   "cell_type": "code",
   "execution_count": 83,
   "outputs": [
    {
     "name": "stderr",
     "output_type": "stream",
     "text": [
      "e:\\projects\\pythonproject\\lib\\site-packages\\ipykernel_launcher.py:1: DeprecationWarning: The default dtype for empty Series will be 'object' instead of 'float64' in a future version. Specify a dtype explicitly to silence this warning.\n",
      "  \"\"\"Entry point for launching an IPython kernel.\n"
     ]
    },
    {
     "data": {
      "text/plain": "               title  runtime  vote_average  vote_count  year      genre\n0          Toy Story     81.0           7.7      5415.0  1995  animation\n0          Toy Story     81.0           7.7      5415.0  1995     comedy\n0          Toy Story     81.0           7.7      5415.0  1995     family\n1            Jumanji    104.0           6.9      2413.0  1995  adventure\n1            Jumanji    104.0           6.9      2413.0  1995    fantasy\n1            Jumanji    104.0           6.9      2413.0  1995     family\n2   Grumpier Old Men    101.0           6.5        92.0  1995    romance\n2   Grumpier Old Men    101.0           6.5        92.0  1995     comedy\n3  Waiting to Exhale    127.0           6.1        34.0  1995     comedy\n3  Waiting to Exhale    127.0           6.1        34.0  1995      drama",
      "text/html": "<div>\n<style scoped>\n    .dataframe tbody tr th:only-of-type {\n        vertical-align: middle;\n    }\n\n    .dataframe tbody tr th {\n        vertical-align: top;\n    }\n\n    .dataframe thead th {\n        text-align: right;\n    }\n</style>\n<table border=\"1\" class=\"dataframe\">\n  <thead>\n    <tr style=\"text-align: right;\">\n      <th></th>\n      <th>title</th>\n      <th>runtime</th>\n      <th>vote_average</th>\n      <th>vote_count</th>\n      <th>year</th>\n      <th>genre</th>\n    </tr>\n  </thead>\n  <tbody>\n    <tr>\n      <th>0</th>\n      <td>Toy Story</td>\n      <td>81.0</td>\n      <td>7.7</td>\n      <td>5415.0</td>\n      <td>1995</td>\n      <td>animation</td>\n    </tr>\n    <tr>\n      <th>0</th>\n      <td>Toy Story</td>\n      <td>81.0</td>\n      <td>7.7</td>\n      <td>5415.0</td>\n      <td>1995</td>\n      <td>comedy</td>\n    </tr>\n    <tr>\n      <th>0</th>\n      <td>Toy Story</td>\n      <td>81.0</td>\n      <td>7.7</td>\n      <td>5415.0</td>\n      <td>1995</td>\n      <td>family</td>\n    </tr>\n    <tr>\n      <th>1</th>\n      <td>Jumanji</td>\n      <td>104.0</td>\n      <td>6.9</td>\n      <td>2413.0</td>\n      <td>1995</td>\n      <td>adventure</td>\n    </tr>\n    <tr>\n      <th>1</th>\n      <td>Jumanji</td>\n      <td>104.0</td>\n      <td>6.9</td>\n      <td>2413.0</td>\n      <td>1995</td>\n      <td>fantasy</td>\n    </tr>\n    <tr>\n      <th>1</th>\n      <td>Jumanji</td>\n      <td>104.0</td>\n      <td>6.9</td>\n      <td>2413.0</td>\n      <td>1995</td>\n      <td>family</td>\n    </tr>\n    <tr>\n      <th>2</th>\n      <td>Grumpier Old Men</td>\n      <td>101.0</td>\n      <td>6.5</td>\n      <td>92.0</td>\n      <td>1995</td>\n      <td>romance</td>\n    </tr>\n    <tr>\n      <th>2</th>\n      <td>Grumpier Old Men</td>\n      <td>101.0</td>\n      <td>6.5</td>\n      <td>92.0</td>\n      <td>1995</td>\n      <td>comedy</td>\n    </tr>\n    <tr>\n      <th>3</th>\n      <td>Waiting to Exhale</td>\n      <td>127.0</td>\n      <td>6.1</td>\n      <td>34.0</td>\n      <td>1995</td>\n      <td>comedy</td>\n    </tr>\n    <tr>\n      <th>3</th>\n      <td>Waiting to Exhale</td>\n      <td>127.0</td>\n      <td>6.1</td>\n      <td>34.0</td>\n      <td>1995</td>\n      <td>drama</td>\n    </tr>\n  </tbody>\n</table>\n</div>"
     },
     "execution_count": 83,
     "metadata": {},
     "output_type": "execute_result"
    }
   ],
   "source": [
    "s = movies.apply(lambda x: pd.Series(x['genres']),axis=1).stack().reset_index(level=1, drop=True)\n",
    "s.name = 'genre'\n",
    "gen_df = movies.drop('genres', axis=1).join(s)\n",
    "gen_df.head(10)"
   ],
   "metadata": {
    "collapsed": false,
    "pycharm": {
     "name": "#%%\n"
    }
   }
  },
  {
   "cell_type": "code",
   "execution_count": 84,
   "outputs": [],
   "source": [
    "def build_chart(gen_df, percentile=0.75):\n",
    "    print(\"Input preferred genre\")\n",
    "    genre = input()\n",
    "    print(\"Input shortest duration\")\n",
    "    low_time = int(input())\n",
    "    print(\"Input longest duration\")\n",
    "    high_time = int(input())\n",
    "    print(\"Input earliest year\")\n",
    "    low_year = int(input())\n",
    "    print(\"Input latest year\")\n",
    "    high_year = int(input())\n",
    "    movies = gen_df.copy()\n",
    "    movies = movies[(movies['genre'] == genre) &\n",
    "                    (movies['runtime'] >= low_time) &\n",
    "                    (movies['runtime'] <= high_time) &\n",
    "                    (movies['year'] >= low_year) &\n",
    "                    (movies['year'] <= high_year)]\n",
    "\n",
    "    C = movies['vote_average'].mean()\n",
    "    m = movies['vote_count'].quantile(percentile)\n",
    "    q_movies = movies.copy().loc[movies['vote_count'] >= m]\n",
    "    #IMDB formula\n",
    "    q_movies['score'] = q_movies.apply(lambda x: (x['vote_count']/(x['vote_count']+m) * x['vote_average'])\n",
    "                                       + (m/(m+x['vote_count']) * C)\n",
    "                                       ,axis=1)\n",
    "    q_movies = q_movies.sort_values('score', ascending=False)\n",
    "\n",
    "    return q_movies"
   ],
   "metadata": {
    "collapsed": false,
    "pycharm": {
     "name": "#%%\n"
    }
   }
  },
  {
   "cell_type": "code",
   "execution_count": 85,
   "outputs": [
    {
     "name": "stdout",
     "output_type": "stream",
     "text": [
      "Input preferred genre\n",
      "Input shortest duration\n",
      "Input longest duration\n",
      "Input earliest year\n",
      "Input latest year\n"
     ]
    },
    {
     "data": {
      "text/plain": "                               title  runtime  vote_average  vote_count  year  \\\n723               Ghost in the Shell     83.0           7.8       854.0  1995   \n550                     True Romance    120.0           7.5       762.0  1993   \n3902      O Brother, Where Art Thou?    106.0           7.3      1144.0  2000   \n348                         The Crow    102.0           7.3       980.0  1994   \n3871  Crouching Tiger, Hidden Dragon    120.0           7.2       949.0  2000   \n\n       genre     score  \n723   action  7.592053  \n550   action  7.299054  \n3902  action  7.175194  \n348   action  7.155947  \n3871  action  7.059709  ",
      "text/html": "<div>\n<style scoped>\n    .dataframe tbody tr th:only-of-type {\n        vertical-align: middle;\n    }\n\n    .dataframe tbody tr th {\n        vertical-align: top;\n    }\n\n    .dataframe thead th {\n        text-align: right;\n    }\n</style>\n<table border=\"1\" class=\"dataframe\">\n  <thead>\n    <tr style=\"text-align: right;\">\n      <th></th>\n      <th>title</th>\n      <th>runtime</th>\n      <th>vote_average</th>\n      <th>vote_count</th>\n      <th>year</th>\n      <th>genre</th>\n      <th>score</th>\n    </tr>\n  </thead>\n  <tbody>\n    <tr>\n      <th>723</th>\n      <td>Ghost in the Shell</td>\n      <td>83.0</td>\n      <td>7.8</td>\n      <td>854.0</td>\n      <td>1995</td>\n      <td>action</td>\n      <td>7.592053</td>\n    </tr>\n    <tr>\n      <th>550</th>\n      <td>True Romance</td>\n      <td>120.0</td>\n      <td>7.5</td>\n      <td>762.0</td>\n      <td>1993</td>\n      <td>action</td>\n      <td>7.299054</td>\n    </tr>\n    <tr>\n      <th>3902</th>\n      <td>O Brother, Where Art Thou?</td>\n      <td>106.0</td>\n      <td>7.3</td>\n      <td>1144.0</td>\n      <td>2000</td>\n      <td>action</td>\n      <td>7.175194</td>\n    </tr>\n    <tr>\n      <th>348</th>\n      <td>The Crow</td>\n      <td>102.0</td>\n      <td>7.3</td>\n      <td>980.0</td>\n      <td>1994</td>\n      <td>action</td>\n      <td>7.155947</td>\n    </tr>\n    <tr>\n      <th>3871</th>\n      <td>Crouching Tiger, Hidden Dragon</td>\n      <td>120.0</td>\n      <td>7.2</td>\n      <td>949.0</td>\n      <td>2000</td>\n      <td>action</td>\n      <td>7.059709</td>\n    </tr>\n  </tbody>\n</table>\n</div>"
     },
     "execution_count": 85,
     "metadata": {},
     "output_type": "execute_result"
    }
   ],
   "source": [
    "build_chart(gen_df).head()"
   ],
   "metadata": {
    "collapsed": false,
    "pycharm": {
     "name": "#%%\n"
    }
   }
  }
 ],
 "metadata": {
  "kernelspec": {
   "display_name": "Python 3",
   "language": "python",
   "name": "python3"
  },
  "language_info": {
   "codemirror_mode": {
    "name": "ipython",
    "version": 2
   },
   "file_extension": ".py",
   "mimetype": "text/x-python",
   "name": "python",
   "nbconvert_exporter": "python",
   "pygments_lexer": "ipython2",
   "version": "2.7.6"
  }
 },
 "nbformat": 4,
 "nbformat_minor": 0
}