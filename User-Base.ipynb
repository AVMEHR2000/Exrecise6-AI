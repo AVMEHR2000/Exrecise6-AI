{
 "cells": [
  {
   "cell_type": "code",
   "execution_count": 15,
   "metadata": {
    "collapsed": true
   },
   "outputs": [],
   "source": [
    "\n",
    "import numpy as np\n",
    "import pandas as pd\n",
    "from scipy import sparse"
   ]
  },
  {
   "cell_type": "code",
   "execution_count": 16,
   "outputs": [],
   "source": [
    "ratings = pd.read_csv('DataSets/ratings.csv')\n",
    "movies = pd.read_csv('DataSets/movies.csv')"
   ],
   "metadata": {
    "collapsed": false,
    "pycharm": {
     "name": "#%%\n"
    }
   }
  },
  {
   "cell_type": "code",
   "execution_count": 17,
   "outputs": [
    {
     "name": "stdout",
     "output_type": "stream",
     "text": [
      "<class 'pandas.core.frame.DataFrame'>\n",
      "RangeIndex: 100836 entries, 0 to 100835\n",
      "Data columns (total 4 columns):\n",
      " #   Column     Non-Null Count   Dtype  \n",
      "---  ------     --------------   -----  \n",
      " 0   userId     100836 non-null  int64  \n",
      " 1   movieId    100836 non-null  int64  \n",
      " 2   rating     100836 non-null  float64\n",
      " 3   timestamp  100836 non-null  int64  \n",
      "dtypes: float64(1), int64(3)\n",
      "memory usage: 3.1 MB\n",
      "<class 'pandas.core.frame.DataFrame'>\n",
      "RangeIndex: 9742 entries, 0 to 9741\n",
      "Data columns (total 3 columns):\n",
      " #   Column   Non-Null Count  Dtype \n",
      "---  ------   --------------  ----- \n",
      " 0   movieId  9742 non-null   int64 \n",
      " 1   title    9742 non-null   object\n",
      " 2   genres   9742 non-null   object\n",
      "dtypes: int64(1), object(2)\n",
      "memory usage: 228.5+ KB\n"
     ]
    }
   ],
   "source": [
    "ratings.info()\n",
    "movies.info()"
   ],
   "metadata": {
    "collapsed": false,
    "pycharm": {
     "name": "#%%\n"
    }
   }
  },
  {
   "cell_type": "code",
   "execution_count": 18,
   "outputs": [
    {
     "name": "stdout",
     "output_type": "stream",
     "text": [
      "(100836, 4)\n"
     ]
    },
    {
     "data": {
      "text/plain": "   userId  movieId  rating  timestamp\n0       1        1     4.0  964982703\n1       1        3     4.0  964981247\n2       1        6     4.0  964982224\n3       1       47     5.0  964983815\n4       1       50     5.0  964982931",
      "text/html": "<div>\n<style scoped>\n    .dataframe tbody tr th:only-of-type {\n        vertical-align: middle;\n    }\n\n    .dataframe tbody tr th {\n        vertical-align: top;\n    }\n\n    .dataframe thead th {\n        text-align: right;\n    }\n</style>\n<table border=\"1\" class=\"dataframe\">\n  <thead>\n    <tr style=\"text-align: right;\">\n      <th></th>\n      <th>userId</th>\n      <th>movieId</th>\n      <th>rating</th>\n      <th>timestamp</th>\n    </tr>\n  </thead>\n  <tbody>\n    <tr>\n      <th>0</th>\n      <td>1</td>\n      <td>1</td>\n      <td>4.0</td>\n      <td>964982703</td>\n    </tr>\n    <tr>\n      <th>1</th>\n      <td>1</td>\n      <td>3</td>\n      <td>4.0</td>\n      <td>964981247</td>\n    </tr>\n    <tr>\n      <th>2</th>\n      <td>1</td>\n      <td>6</td>\n      <td>4.0</td>\n      <td>964982224</td>\n    </tr>\n    <tr>\n      <th>3</th>\n      <td>1</td>\n      <td>47</td>\n      <td>5.0</td>\n      <td>964983815</td>\n    </tr>\n    <tr>\n      <th>4</th>\n      <td>1</td>\n      <td>50</td>\n      <td>5.0</td>\n      <td>964982931</td>\n    </tr>\n  </tbody>\n</table>\n</div>"
     },
     "execution_count": 18,
     "metadata": {},
     "output_type": "execute_result"
    }
   ],
   "source": [
    "print(ratings.shape)\n",
    "ratings.head()"
   ],
   "metadata": {
    "collapsed": false,
    "pycharm": {
     "name": "#%%\n"
    }
   }
  },
  {
   "cell_type": "code",
   "execution_count": 19,
   "outputs": [
    {
     "name": "stdout",
     "output_type": "stream",
     "text": [
      "(9742, 3)\n"
     ]
    },
    {
     "data": {
      "text/plain": "   movieId                               title  \\\n0        1                    Toy Story (1995)   \n1        2                      Jumanji (1995)   \n2        3             Grumpier Old Men (1995)   \n3        4            Waiting to Exhale (1995)   \n4        5  Father of the Bride Part II (1995)   \n5        6                         Heat (1995)   \n6        7                      Sabrina (1995)   \n7        8                 Tom and Huck (1995)   \n8        9                 Sudden Death (1995)   \n9       10                    GoldenEye (1995)   \n\n                                        genres  \n0  Adventure|Animation|Children|Comedy|Fantasy  \n1                   Adventure|Children|Fantasy  \n2                               Comedy|Romance  \n3                         Comedy|Drama|Romance  \n4                                       Comedy  \n5                        Action|Crime|Thriller  \n6                               Comedy|Romance  \n7                           Adventure|Children  \n8                                       Action  \n9                    Action|Adventure|Thriller  ",
      "text/html": "<div>\n<style scoped>\n    .dataframe tbody tr th:only-of-type {\n        vertical-align: middle;\n    }\n\n    .dataframe tbody tr th {\n        vertical-align: top;\n    }\n\n    .dataframe thead th {\n        text-align: right;\n    }\n</style>\n<table border=\"1\" class=\"dataframe\">\n  <thead>\n    <tr style=\"text-align: right;\">\n      <th></th>\n      <th>movieId</th>\n      <th>title</th>\n      <th>genres</th>\n    </tr>\n  </thead>\n  <tbody>\n    <tr>\n      <th>0</th>\n      <td>1</td>\n      <td>Toy Story (1995)</td>\n      <td>Adventure|Animation|Children|Comedy|Fantasy</td>\n    </tr>\n    <tr>\n      <th>1</th>\n      <td>2</td>\n      <td>Jumanji (1995)</td>\n      <td>Adventure|Children|Fantasy</td>\n    </tr>\n    <tr>\n      <th>2</th>\n      <td>3</td>\n      <td>Grumpier Old Men (1995)</td>\n      <td>Comedy|Romance</td>\n    </tr>\n    <tr>\n      <th>3</th>\n      <td>4</td>\n      <td>Waiting to Exhale (1995)</td>\n      <td>Comedy|Drama|Romance</td>\n    </tr>\n    <tr>\n      <th>4</th>\n      <td>5</td>\n      <td>Father of the Bride Part II (1995)</td>\n      <td>Comedy</td>\n    </tr>\n    <tr>\n      <th>5</th>\n      <td>6</td>\n      <td>Heat (1995)</td>\n      <td>Action|Crime|Thriller</td>\n    </tr>\n    <tr>\n      <th>6</th>\n      <td>7</td>\n      <td>Sabrina (1995)</td>\n      <td>Comedy|Romance</td>\n    </tr>\n    <tr>\n      <th>7</th>\n      <td>8</td>\n      <td>Tom and Huck (1995)</td>\n      <td>Adventure|Children</td>\n    </tr>\n    <tr>\n      <th>8</th>\n      <td>9</td>\n      <td>Sudden Death (1995)</td>\n      <td>Action</td>\n    </tr>\n    <tr>\n      <th>9</th>\n      <td>10</td>\n      <td>GoldenEye (1995)</td>\n      <td>Action|Adventure|Thriller</td>\n    </tr>\n  </tbody>\n</table>\n</div>"
     },
     "execution_count": 19,
     "metadata": {},
     "output_type": "execute_result"
    }
   ],
   "source": [
    "print(movies.shape)\n",
    "movies.head(10)"
   ],
   "metadata": {
    "collapsed": false,
    "pycharm": {
     "name": "#%%\n"
    }
   }
  },
  {
   "cell_type": "code",
   "execution_count": 20,
   "outputs": [
    {
     "data": {
      "text/plain": "   userId  movieId  rating             title\n0       1        1     4.0  Toy Story (1995)\n1       5        1     4.0  Toy Story (1995)\n2       7        1     4.5  Toy Story (1995)\n3      15        1     2.5  Toy Story (1995)\n4      17        1     4.5  Toy Story (1995)\n5      18        1     3.5  Toy Story (1995)",
      "text/html": "<div>\n<style scoped>\n    .dataframe tbody tr th:only-of-type {\n        vertical-align: middle;\n    }\n\n    .dataframe tbody tr th {\n        vertical-align: top;\n    }\n\n    .dataframe thead th {\n        text-align: right;\n    }\n</style>\n<table border=\"1\" class=\"dataframe\">\n  <thead>\n    <tr style=\"text-align: right;\">\n      <th></th>\n      <th>userId</th>\n      <th>movieId</th>\n      <th>rating</th>\n      <th>title</th>\n    </tr>\n  </thead>\n  <tbody>\n    <tr>\n      <th>0</th>\n      <td>1</td>\n      <td>1</td>\n      <td>4.0</td>\n      <td>Toy Story (1995)</td>\n    </tr>\n    <tr>\n      <th>1</th>\n      <td>5</td>\n      <td>1</td>\n      <td>4.0</td>\n      <td>Toy Story (1995)</td>\n    </tr>\n    <tr>\n      <th>2</th>\n      <td>7</td>\n      <td>1</td>\n      <td>4.5</td>\n      <td>Toy Story (1995)</td>\n    </tr>\n    <tr>\n      <th>3</th>\n      <td>15</td>\n      <td>1</td>\n      <td>2.5</td>\n      <td>Toy Story (1995)</td>\n    </tr>\n    <tr>\n      <th>4</th>\n      <td>17</td>\n      <td>1</td>\n      <td>4.5</td>\n      <td>Toy Story (1995)</td>\n    </tr>\n    <tr>\n      <th>5</th>\n      <td>18</td>\n      <td>1</td>\n      <td>3.5</td>\n      <td>Toy Story (1995)</td>\n    </tr>\n  </tbody>\n</table>\n</div>"
     },
     "execution_count": 20,
     "metadata": {},
     "output_type": "execute_result"
    }
   ],
   "source": [
    "ratings =ratings.drop(['timestamp'],axis=1)\n",
    "movies=movies.drop(['genres'],axis=1)\n",
    "merged_ratings=pd.merge(ratings,movies)\n",
    "merged_ratings.head(6)"
   ],
   "metadata": {
    "collapsed": false,
    "pycharm": {
     "name": "#%%\n"
    }
   }
  },
  {
   "cell_type": "code",
   "execution_count": 21,
   "outputs": [
    {
     "data": {
      "text/plain": "title   '71 (2014)  'Hellboy': The Seeds of Creation (2004)  \\\nuserId                                                        \n1              NaN                                      NaN   \n2              NaN                                      NaN   \n3              NaN                                      NaN   \n4              NaN                                      NaN   \n5              NaN                                      NaN   \n6              NaN                                      NaN   \n7              NaN                                      NaN   \n8              NaN                                      NaN   \n9              NaN                                      NaN   \n10             NaN                                      NaN   \n\ntitle   'Round Midnight (1986)  'Salem's Lot (2004)  \\\nuserId                                                \n1                          NaN                  NaN   \n2                          NaN                  NaN   \n3                          NaN                  NaN   \n4                          NaN                  NaN   \n5                          NaN                  NaN   \n6                          NaN                  NaN   \n7                          NaN                  NaN   \n8                          NaN                  NaN   \n9                          NaN                  NaN   \n10                         NaN                  NaN   \n\ntitle   'Til There Was You (1997)  'Tis the Season for Love (2015)  \\\nuserId                                                               \n1                             NaN                              NaN   \n2                             NaN                              NaN   \n3                             NaN                              NaN   \n4                             NaN                              NaN   \n5                             NaN                              NaN   \n6                             NaN                              NaN   \n7                             NaN                              NaN   \n8                             NaN                              NaN   \n9                             NaN                              NaN   \n10                            NaN                              NaN   \n\ntitle   'burbs, The (1989)  'night Mother (1986)  (500) Days of Summer (2009)  \\\nuserId                                                                          \n1                      NaN                   NaN                          NaN   \n2                      NaN                   NaN                          NaN   \n3                      NaN                   NaN                          NaN   \n4                      NaN                   NaN                          NaN   \n5                      NaN                   NaN                          NaN   \n6                      NaN                   NaN                          NaN   \n7                      NaN                   NaN                          NaN   \n8                      NaN                   NaN                          NaN   \n9                      NaN                   NaN                          NaN   \n10                     NaN                   NaN                          NaN   \n\ntitle   *batteries not included (1987)  ...  Zulu (2013)  [REC] (2007)  \\\nuserId                                  ...                              \n1                                  NaN  ...          NaN           NaN   \n2                                  NaN  ...          NaN           NaN   \n3                                  NaN  ...          NaN           NaN   \n4                                  NaN  ...          NaN           NaN   \n5                                  NaN  ...          NaN           NaN   \n6                                  NaN  ...          NaN           NaN   \n7                                  NaN  ...          NaN           NaN   \n8                                  NaN  ...          NaN           NaN   \n9                                  NaN  ...          NaN           NaN   \n10                                 NaN  ...          NaN           NaN   \n\ntitle   [REC]² (2009)  [REC]³ 3 Génesis (2012)  \\\nuserId                                           \n1                 NaN                      NaN   \n2                 NaN                      NaN   \n3                 NaN                      NaN   \n4                 NaN                      NaN   \n5                 NaN                      NaN   \n6                 NaN                      NaN   \n7                 NaN                      NaN   \n8                 NaN                      NaN   \n9                 NaN                      NaN   \n10                NaN                      NaN   \n\ntitle   anohana: The Flower We Saw That Day - The Movie (2013)  \\\nuserId                                                           \n1                                                     NaN        \n2                                                     NaN        \n3                                                     NaN        \n4                                                     NaN        \n5                                                     NaN        \n6                                                     NaN        \n7                                                     NaN        \n8                                                     NaN        \n9                                                     NaN        \n10                                                    NaN        \n\ntitle   eXistenZ (1999)  xXx (2002)  xXx: State of the Union (2005)  \\\nuserId                                                                \n1                   NaN         NaN                             NaN   \n2                   NaN         NaN                             NaN   \n3                   NaN         NaN                             NaN   \n4                   NaN         NaN                             NaN   \n5                   NaN         NaN                             NaN   \n6                   NaN         NaN                             NaN   \n7                   NaN         NaN                             NaN   \n8                   NaN         NaN                             NaN   \n9                   NaN         1.0                             NaN   \n10                  NaN         NaN                             NaN   \n\ntitle   ¡Three Amigos! (1986)  À nous la liberté (Freedom for Us) (1931)  \nuserId                                                                    \n1                         4.0                                        NaN  \n2                         NaN                                        NaN  \n3                         NaN                                        NaN  \n4                         NaN                                        NaN  \n5                         NaN                                        NaN  \n6                         NaN                                        NaN  \n7                         NaN                                        NaN  \n8                         NaN                                        NaN  \n9                         NaN                                        NaN  \n10                        NaN                                        NaN  \n\n[10 rows x 9719 columns]",
      "text/html": "<div>\n<style scoped>\n    .dataframe tbody tr th:only-of-type {\n        vertical-align: middle;\n    }\n\n    .dataframe tbody tr th {\n        vertical-align: top;\n    }\n\n    .dataframe thead th {\n        text-align: right;\n    }\n</style>\n<table border=\"1\" class=\"dataframe\">\n  <thead>\n    <tr style=\"text-align: right;\">\n      <th>title</th>\n      <th>'71 (2014)</th>\n      <th>'Hellboy': The Seeds of Creation (2004)</th>\n      <th>'Round Midnight (1986)</th>\n      <th>'Salem's Lot (2004)</th>\n      <th>'Til There Was You (1997)</th>\n      <th>'Tis the Season for Love (2015)</th>\n      <th>'burbs, The (1989)</th>\n      <th>'night Mother (1986)</th>\n      <th>(500) Days of Summer (2009)</th>\n      <th>*batteries not included (1987)</th>\n      <th>...</th>\n      <th>Zulu (2013)</th>\n      <th>[REC] (2007)</th>\n      <th>[REC]² (2009)</th>\n      <th>[REC]³ 3 Génesis (2012)</th>\n      <th>anohana: The Flower We Saw That Day - The Movie (2013)</th>\n      <th>eXistenZ (1999)</th>\n      <th>xXx (2002)</th>\n      <th>xXx: State of the Union (2005)</th>\n      <th>¡Three Amigos! (1986)</th>\n      <th>À nous la liberté (Freedom for Us) (1931)</th>\n    </tr>\n    <tr>\n      <th>userId</th>\n      <th></th>\n      <th></th>\n      <th></th>\n      <th></th>\n      <th></th>\n      <th></th>\n      <th></th>\n      <th></th>\n      <th></th>\n      <th></th>\n      <th></th>\n      <th></th>\n      <th></th>\n      <th></th>\n      <th></th>\n      <th></th>\n      <th></th>\n      <th></th>\n      <th></th>\n      <th></th>\n      <th></th>\n    </tr>\n  </thead>\n  <tbody>\n    <tr>\n      <th>1</th>\n      <td>NaN</td>\n      <td>NaN</td>\n      <td>NaN</td>\n      <td>NaN</td>\n      <td>NaN</td>\n      <td>NaN</td>\n      <td>NaN</td>\n      <td>NaN</td>\n      <td>NaN</td>\n      <td>NaN</td>\n      <td>...</td>\n      <td>NaN</td>\n      <td>NaN</td>\n      <td>NaN</td>\n      <td>NaN</td>\n      <td>NaN</td>\n      <td>NaN</td>\n      <td>NaN</td>\n      <td>NaN</td>\n      <td>4.0</td>\n      <td>NaN</td>\n    </tr>\n    <tr>\n      <th>2</th>\n      <td>NaN</td>\n      <td>NaN</td>\n      <td>NaN</td>\n      <td>NaN</td>\n      <td>NaN</td>\n      <td>NaN</td>\n      <td>NaN</td>\n      <td>NaN</td>\n      <td>NaN</td>\n      <td>NaN</td>\n      <td>...</td>\n      <td>NaN</td>\n      <td>NaN</td>\n      <td>NaN</td>\n      <td>NaN</td>\n      <td>NaN</td>\n      <td>NaN</td>\n      <td>NaN</td>\n      <td>NaN</td>\n      <td>NaN</td>\n      <td>NaN</td>\n    </tr>\n    <tr>\n      <th>3</th>\n      <td>NaN</td>\n      <td>NaN</td>\n      <td>NaN</td>\n      <td>NaN</td>\n      <td>NaN</td>\n      <td>NaN</td>\n      <td>NaN</td>\n      <td>NaN</td>\n      <td>NaN</td>\n      <td>NaN</td>\n      <td>...</td>\n      <td>NaN</td>\n      <td>NaN</td>\n      <td>NaN</td>\n      <td>NaN</td>\n      <td>NaN</td>\n      <td>NaN</td>\n      <td>NaN</td>\n      <td>NaN</td>\n      <td>NaN</td>\n      <td>NaN</td>\n    </tr>\n    <tr>\n      <th>4</th>\n      <td>NaN</td>\n      <td>NaN</td>\n      <td>NaN</td>\n      <td>NaN</td>\n      <td>NaN</td>\n      <td>NaN</td>\n      <td>NaN</td>\n      <td>NaN</td>\n      <td>NaN</td>\n      <td>NaN</td>\n      <td>...</td>\n      <td>NaN</td>\n      <td>NaN</td>\n      <td>NaN</td>\n      <td>NaN</td>\n      <td>NaN</td>\n      <td>NaN</td>\n      <td>NaN</td>\n      <td>NaN</td>\n      <td>NaN</td>\n      <td>NaN</td>\n    </tr>\n    <tr>\n      <th>5</th>\n      <td>NaN</td>\n      <td>NaN</td>\n      <td>NaN</td>\n      <td>NaN</td>\n      <td>NaN</td>\n      <td>NaN</td>\n      <td>NaN</td>\n      <td>NaN</td>\n      <td>NaN</td>\n      <td>NaN</td>\n      <td>...</td>\n      <td>NaN</td>\n      <td>NaN</td>\n      <td>NaN</td>\n      <td>NaN</td>\n      <td>NaN</td>\n      <td>NaN</td>\n      <td>NaN</td>\n      <td>NaN</td>\n      <td>NaN</td>\n      <td>NaN</td>\n    </tr>\n    <tr>\n      <th>6</th>\n      <td>NaN</td>\n      <td>NaN</td>\n      <td>NaN</td>\n      <td>NaN</td>\n      <td>NaN</td>\n      <td>NaN</td>\n      <td>NaN</td>\n      <td>NaN</td>\n      <td>NaN</td>\n      <td>NaN</td>\n      <td>...</td>\n      <td>NaN</td>\n      <td>NaN</td>\n      <td>NaN</td>\n      <td>NaN</td>\n      <td>NaN</td>\n      <td>NaN</td>\n      <td>NaN</td>\n      <td>NaN</td>\n      <td>NaN</td>\n      <td>NaN</td>\n    </tr>\n    <tr>\n      <th>7</th>\n      <td>NaN</td>\n      <td>NaN</td>\n      <td>NaN</td>\n      <td>NaN</td>\n      <td>NaN</td>\n      <td>NaN</td>\n      <td>NaN</td>\n      <td>NaN</td>\n      <td>NaN</td>\n      <td>NaN</td>\n      <td>...</td>\n      <td>NaN</td>\n      <td>NaN</td>\n      <td>NaN</td>\n      <td>NaN</td>\n      <td>NaN</td>\n      <td>NaN</td>\n      <td>NaN</td>\n      <td>NaN</td>\n      <td>NaN</td>\n      <td>NaN</td>\n    </tr>\n    <tr>\n      <th>8</th>\n      <td>NaN</td>\n      <td>NaN</td>\n      <td>NaN</td>\n      <td>NaN</td>\n      <td>NaN</td>\n      <td>NaN</td>\n      <td>NaN</td>\n      <td>NaN</td>\n      <td>NaN</td>\n      <td>NaN</td>\n      <td>...</td>\n      <td>NaN</td>\n      <td>NaN</td>\n      <td>NaN</td>\n      <td>NaN</td>\n      <td>NaN</td>\n      <td>NaN</td>\n      <td>NaN</td>\n      <td>NaN</td>\n      <td>NaN</td>\n      <td>NaN</td>\n    </tr>\n    <tr>\n      <th>9</th>\n      <td>NaN</td>\n      <td>NaN</td>\n      <td>NaN</td>\n      <td>NaN</td>\n      <td>NaN</td>\n      <td>NaN</td>\n      <td>NaN</td>\n      <td>NaN</td>\n      <td>NaN</td>\n      <td>NaN</td>\n      <td>...</td>\n      <td>NaN</td>\n      <td>NaN</td>\n      <td>NaN</td>\n      <td>NaN</td>\n      <td>NaN</td>\n      <td>NaN</td>\n      <td>1.0</td>\n      <td>NaN</td>\n      <td>NaN</td>\n      <td>NaN</td>\n    </tr>\n    <tr>\n      <th>10</th>\n      <td>NaN</td>\n      <td>NaN</td>\n      <td>NaN</td>\n      <td>NaN</td>\n      <td>NaN</td>\n      <td>NaN</td>\n      <td>NaN</td>\n      <td>NaN</td>\n      <td>NaN</td>\n      <td>NaN</td>\n      <td>...</td>\n      <td>NaN</td>\n      <td>NaN</td>\n      <td>NaN</td>\n      <td>NaN</td>\n      <td>NaN</td>\n      <td>NaN</td>\n      <td>NaN</td>\n      <td>NaN</td>\n      <td>NaN</td>\n      <td>NaN</td>\n    </tr>\n  </tbody>\n</table>\n<p>10 rows × 9719 columns</p>\n</div>"
     },
     "execution_count": 21,
     "metadata": {},
     "output_type": "execute_result"
    }
   ],
   "source": [
    "userRatings = merged_ratings.pivot_table(index=['userId'],columns=['title'],values='rating')\n",
    "userRatings.head(10)"
   ],
   "metadata": {
    "collapsed": false,
    "pycharm": {
     "name": "#%%\n"
    }
   }
  },
  {
   "cell_type": "code",
   "execution_count": 22,
   "outputs": [
    {
     "name": "stdout",
     "output_type": "stream",
     "text": [
      "(610, 9719)\n"
     ]
    }
   ],
   "source": [
    "print(userRatings.shape)\n",
    "userRatings = userRatings.dropna(thresh=10, axis=1)\n",
    "userRatings.fillna(0, inplace=True)"
   ],
   "metadata": {
    "collapsed": false,
    "pycharm": {
     "name": "#%%\n"
    }
   }
  },
  {
   "cell_type": "code",
   "execution_count": 23,
   "outputs": [
    {
     "name": "stdout",
     "output_type": "stream",
     "text": [
      "after drop: (610, 2269)\n"
     ]
    },
    {
     "data": {
      "text/plain": "title   'burbs, The (1989)  (500) Days of Summer (2009)  \\\nuserId                                                    \n1                      0.0                          0.0   \n2                      0.0                          0.0   \n3                      0.0                          0.0   \n4                      0.0                          0.0   \n5                      0.0                          0.0   \n6                      0.0                          0.0   \n7                      0.0                          0.0   \n8                      0.0                          0.0   \n9                      0.0                          0.0   \n10                     0.0                          0.0   \n\ntitle   10 Cloverfield Lane (2016)  10 Things I Hate About You (1999)  \\\nuserId                                                                  \n1                              0.0                                0.0   \n2                              0.0                                0.0   \n3                              0.0                                0.0   \n4                              0.0                                0.0   \n5                              0.0                                0.0   \n6                              0.0                                0.0   \n7                              0.0                                0.0   \n8                              0.0                                0.0   \n9                              0.0                                0.0   \n10                             0.0                                0.0   \n\ntitle   10,000 BC (2008)  101 Dalmatians (1996)  \\\nuserId                                            \n1                    0.0                    0.0   \n2                    0.0                    0.0   \n3                    0.0                    0.0   \n4                    0.0                    0.0   \n5                    0.0                    0.0   \n6                    0.0                    0.0   \n7                    0.0                    0.0   \n8                    0.0                    0.0   \n9                    0.0                    0.0   \n10                   0.0                    0.0   \n\ntitle   101 Dalmatians (One Hundred and One Dalmatians) (1961)  \\\nuserId                                                           \n1                                                     0.0        \n2                                                     0.0        \n3                                                     0.0        \n4                                                     0.0        \n5                                                     0.0        \n6                                                     0.0        \n7                                                     0.0        \n8                                                     0.0        \n9                                                     0.0        \n10                                                    0.0        \n\ntitle   12 Angry Men (1957)  12 Years a Slave (2013)  127 Hours (2010)  ...  \\\nuserId                                                                  ...   \n1                       0.0                      0.0               0.0  ...   \n2                       0.0                      0.0               0.0  ...   \n3                       0.0                      0.0               0.0  ...   \n4                       5.0                      0.0               0.0  ...   \n5                       0.0                      0.0               0.0  ...   \n6                       0.0                      0.0               0.0  ...   \n7                       0.0                      0.0               0.0  ...   \n8                       0.0                      0.0               0.0  ...   \n9                       0.0                      0.0               0.0  ...   \n10                      0.0                      0.0               0.0  ...   \n\ntitle   Zack and Miri Make a Porno (2008)  Zero Dark Thirty (2012)  \\\nuserId                                                               \n1                                     0.0                      0.0   \n2                                     0.0                      0.0   \n3                                     0.0                      0.0   \n4                                     0.0                      0.0   \n5                                     0.0                      0.0   \n6                                     0.0                      0.0   \n7                                     0.0                      0.0   \n8                                     0.0                      0.0   \n9                                     0.0                      0.0   \n10                                    0.0                      0.0   \n\ntitle   Zero Effect (1998)  Zodiac (2007)  Zombieland (2009)  \\\nuserId                                                         \n1                      0.0            0.0                0.0   \n2                      0.0            0.0                3.0   \n3                      0.0            0.0                0.0   \n4                      0.0            0.0                0.0   \n5                      0.0            0.0                0.0   \n6                      0.0            0.0                0.0   \n7                      0.0            0.0                0.0   \n8                      0.0            0.0                0.0   \n9                      0.0            0.0                0.0   \n10                     0.0            0.0                0.0   \n\ntitle   Zoolander (2001)  Zootopia (2016)  eXistenZ (1999)  xXx (2002)  \\\nuserId                                                                   \n1                    0.0              0.0              0.0         0.0   \n2                    0.0              0.0              0.0         0.0   \n3                    0.0              0.0              0.0         0.0   \n4                    0.0              0.0              0.0         0.0   \n5                    0.0              0.0              0.0         0.0   \n6                    0.0              0.0              0.0         0.0   \n7                    0.0              0.0              0.0         0.0   \n8                    0.0              0.0              0.0         0.0   \n9                    0.0              0.0              0.0         1.0   \n10                   0.0              0.0              0.0         0.0   \n\ntitle   ¡Three Amigos! (1986)  \nuserId                         \n1                         4.0  \n2                         0.0  \n3                         0.0  \n4                         0.0  \n5                         0.0  \n6                         0.0  \n7                         0.0  \n8                         0.0  \n9                         0.0  \n10                        0.0  \n\n[10 rows x 2269 columns]",
      "text/html": "<div>\n<style scoped>\n    .dataframe tbody tr th:only-of-type {\n        vertical-align: middle;\n    }\n\n    .dataframe tbody tr th {\n        vertical-align: top;\n    }\n\n    .dataframe thead th {\n        text-align: right;\n    }\n</style>\n<table border=\"1\" class=\"dataframe\">\n  <thead>\n    <tr style=\"text-align: right;\">\n      <th>title</th>\n      <th>'burbs, The (1989)</th>\n      <th>(500) Days of Summer (2009)</th>\n      <th>10 Cloverfield Lane (2016)</th>\n      <th>10 Things I Hate About You (1999)</th>\n      <th>10,000 BC (2008)</th>\n      <th>101 Dalmatians (1996)</th>\n      <th>101 Dalmatians (One Hundred and One Dalmatians) (1961)</th>\n      <th>12 Angry Men (1957)</th>\n      <th>12 Years a Slave (2013)</th>\n      <th>127 Hours (2010)</th>\n      <th>...</th>\n      <th>Zack and Miri Make a Porno (2008)</th>\n      <th>Zero Dark Thirty (2012)</th>\n      <th>Zero Effect (1998)</th>\n      <th>Zodiac (2007)</th>\n      <th>Zombieland (2009)</th>\n      <th>Zoolander (2001)</th>\n      <th>Zootopia (2016)</th>\n      <th>eXistenZ (1999)</th>\n      <th>xXx (2002)</th>\n      <th>¡Three Amigos! (1986)</th>\n    </tr>\n    <tr>\n      <th>userId</th>\n      <th></th>\n      <th></th>\n      <th></th>\n      <th></th>\n      <th></th>\n      <th></th>\n      <th></th>\n      <th></th>\n      <th></th>\n      <th></th>\n      <th></th>\n      <th></th>\n      <th></th>\n      <th></th>\n      <th></th>\n      <th></th>\n      <th></th>\n      <th></th>\n      <th></th>\n      <th></th>\n      <th></th>\n    </tr>\n  </thead>\n  <tbody>\n    <tr>\n      <th>1</th>\n      <td>0.0</td>\n      <td>0.0</td>\n      <td>0.0</td>\n      <td>0.0</td>\n      <td>0.0</td>\n      <td>0.0</td>\n      <td>0.0</td>\n      <td>0.0</td>\n      <td>0.0</td>\n      <td>0.0</td>\n      <td>...</td>\n      <td>0.0</td>\n      <td>0.0</td>\n      <td>0.0</td>\n      <td>0.0</td>\n      <td>0.0</td>\n      <td>0.0</td>\n      <td>0.0</td>\n      <td>0.0</td>\n      <td>0.0</td>\n      <td>4.0</td>\n    </tr>\n    <tr>\n      <th>2</th>\n      <td>0.0</td>\n      <td>0.0</td>\n      <td>0.0</td>\n      <td>0.0</td>\n      <td>0.0</td>\n      <td>0.0</td>\n      <td>0.0</td>\n      <td>0.0</td>\n      <td>0.0</td>\n      <td>0.0</td>\n      <td>...</td>\n      <td>0.0</td>\n      <td>0.0</td>\n      <td>0.0</td>\n      <td>0.0</td>\n      <td>3.0</td>\n      <td>0.0</td>\n      <td>0.0</td>\n      <td>0.0</td>\n      <td>0.0</td>\n      <td>0.0</td>\n    </tr>\n    <tr>\n      <th>3</th>\n      <td>0.0</td>\n      <td>0.0</td>\n      <td>0.0</td>\n      <td>0.0</td>\n      <td>0.0</td>\n      <td>0.0</td>\n      <td>0.0</td>\n      <td>0.0</td>\n      <td>0.0</td>\n      <td>0.0</td>\n      <td>...</td>\n      <td>0.0</td>\n      <td>0.0</td>\n      <td>0.0</td>\n      <td>0.0</td>\n      <td>0.0</td>\n      <td>0.0</td>\n      <td>0.0</td>\n      <td>0.0</td>\n      <td>0.0</td>\n      <td>0.0</td>\n    </tr>\n    <tr>\n      <th>4</th>\n      <td>0.0</td>\n      <td>0.0</td>\n      <td>0.0</td>\n      <td>0.0</td>\n      <td>0.0</td>\n      <td>0.0</td>\n      <td>0.0</td>\n      <td>5.0</td>\n      <td>0.0</td>\n      <td>0.0</td>\n      <td>...</td>\n      <td>0.0</td>\n      <td>0.0</td>\n      <td>0.0</td>\n      <td>0.0</td>\n      <td>0.0</td>\n      <td>0.0</td>\n      <td>0.0</td>\n      <td>0.0</td>\n      <td>0.0</td>\n      <td>0.0</td>\n    </tr>\n    <tr>\n      <th>5</th>\n      <td>0.0</td>\n      <td>0.0</td>\n      <td>0.0</td>\n      <td>0.0</td>\n      <td>0.0</td>\n      <td>0.0</td>\n      <td>0.0</td>\n      <td>0.0</td>\n      <td>0.0</td>\n      <td>0.0</td>\n      <td>...</td>\n      <td>0.0</td>\n      <td>0.0</td>\n      <td>0.0</td>\n      <td>0.0</td>\n      <td>0.0</td>\n      <td>0.0</td>\n      <td>0.0</td>\n      <td>0.0</td>\n      <td>0.0</td>\n      <td>0.0</td>\n    </tr>\n    <tr>\n      <th>6</th>\n      <td>0.0</td>\n      <td>0.0</td>\n      <td>0.0</td>\n      <td>0.0</td>\n      <td>0.0</td>\n      <td>0.0</td>\n      <td>0.0</td>\n      <td>0.0</td>\n      <td>0.0</td>\n      <td>0.0</td>\n      <td>...</td>\n      <td>0.0</td>\n      <td>0.0</td>\n      <td>0.0</td>\n      <td>0.0</td>\n      <td>0.0</td>\n      <td>0.0</td>\n      <td>0.0</td>\n      <td>0.0</td>\n      <td>0.0</td>\n      <td>0.0</td>\n    </tr>\n    <tr>\n      <th>7</th>\n      <td>0.0</td>\n      <td>0.0</td>\n      <td>0.0</td>\n      <td>0.0</td>\n      <td>0.0</td>\n      <td>0.0</td>\n      <td>0.0</td>\n      <td>0.0</td>\n      <td>0.0</td>\n      <td>0.0</td>\n      <td>...</td>\n      <td>0.0</td>\n      <td>0.0</td>\n      <td>0.0</td>\n      <td>0.0</td>\n      <td>0.0</td>\n      <td>0.0</td>\n      <td>0.0</td>\n      <td>0.0</td>\n      <td>0.0</td>\n      <td>0.0</td>\n    </tr>\n    <tr>\n      <th>8</th>\n      <td>0.0</td>\n      <td>0.0</td>\n      <td>0.0</td>\n      <td>0.0</td>\n      <td>0.0</td>\n      <td>0.0</td>\n      <td>0.0</td>\n      <td>0.0</td>\n      <td>0.0</td>\n      <td>0.0</td>\n      <td>...</td>\n      <td>0.0</td>\n      <td>0.0</td>\n      <td>0.0</td>\n      <td>0.0</td>\n      <td>0.0</td>\n      <td>0.0</td>\n      <td>0.0</td>\n      <td>0.0</td>\n      <td>0.0</td>\n      <td>0.0</td>\n    </tr>\n    <tr>\n      <th>9</th>\n      <td>0.0</td>\n      <td>0.0</td>\n      <td>0.0</td>\n      <td>0.0</td>\n      <td>0.0</td>\n      <td>0.0</td>\n      <td>0.0</td>\n      <td>0.0</td>\n      <td>0.0</td>\n      <td>0.0</td>\n      <td>...</td>\n      <td>0.0</td>\n      <td>0.0</td>\n      <td>0.0</td>\n      <td>0.0</td>\n      <td>0.0</td>\n      <td>0.0</td>\n      <td>0.0</td>\n      <td>0.0</td>\n      <td>1.0</td>\n      <td>0.0</td>\n    </tr>\n    <tr>\n      <th>10</th>\n      <td>0.0</td>\n      <td>0.0</td>\n      <td>0.0</td>\n      <td>0.0</td>\n      <td>0.0</td>\n      <td>0.0</td>\n      <td>0.0</td>\n      <td>0.0</td>\n      <td>0.0</td>\n      <td>0.0</td>\n      <td>...</td>\n      <td>0.0</td>\n      <td>0.0</td>\n      <td>0.0</td>\n      <td>0.0</td>\n      <td>0.0</td>\n      <td>0.0</td>\n      <td>0.0</td>\n      <td>0.0</td>\n      <td>0.0</td>\n      <td>0.0</td>\n    </tr>\n  </tbody>\n</table>\n<p>10 rows × 2269 columns</p>\n</div>"
     },
     "execution_count": 23,
     "metadata": {},
     "output_type": "execute_result"
    }
   ],
   "source": [
    "print(\"after drop:\",userRatings.shape)\n",
    "userRatings.head(10)"
   ],
   "metadata": {
    "collapsed": false,
    "pycharm": {
     "name": "#%%\n"
    }
   }
  },
  {
   "cell_type": "code",
   "execution_count": 24,
   "outputs": [
    {
     "data": {
      "text/plain": "title                                               'burbs, The (1989)  \\\ntitle                                                                    \n'burbs, The (1989)                                            1.000000   \n(500) Days of Summer (2009)                                   0.063117   \n10 Cloverfield Lane (2016)                                   -0.023768   \n10 Things I Hate About You (1999)                             0.143482   \n10,000 BC (2008)                                              0.011998   \n101 Dalmatians (1996)                                         0.087931   \n101 Dalmatians (One Hundred and One Dalmatians)...            0.224052   \n12 Angry Men (1957)                                           0.034223   \n12 Years a Slave (2013)                                       0.009277   \n127 Hours (2010)                                              0.008331   \n\ntitle                                               (500) Days of Summer (2009)  \\\ntitle                                                                             \n'burbs, The (1989)                                                     0.063117   \n(500) Days of Summer (2009)                                            1.000000   \n10 Cloverfield Lane (2016)                                             0.142471   \n10 Things I Hate About You (1999)                                      0.273989   \n10,000 BC (2008)                                                       0.193960   \n101 Dalmatians (1996)                                                  0.148903   \n101 Dalmatians (One Hundred and One Dalmatians)...                     0.142141   \n12 Angry Men (1957)                                                    0.159756   \n12 Years a Slave (2013)                                                0.135486   \n127 Hours (2010)                                                       0.200135   \n\ntitle                                               10 Cloverfield Lane (2016)  \\\ntitle                                                                            \n'burbs, The (1989)                                                   -0.023768   \n(500) Days of Summer (2009)                                           0.142471   \n10 Cloverfield Lane (2016)                                            1.000000   \n10 Things I Hate About You (1999)                                    -0.005799   \n10,000 BC (2008)                                                      0.112396   \n101 Dalmatians (1996)                                                 0.006139   \n101 Dalmatians (One Hundred and One Dalmatians)...                   -0.016835   \n12 Angry Men (1957)                                                   0.031704   \n12 Years a Slave (2013)                                              -0.024275   \n127 Hours (2010)                                                      0.272943   \n\ntitle                                               10 Things I Hate About You (1999)  \\\ntitle                                                                                   \n'burbs, The (1989)                                                           0.143482   \n(500) Days of Summer (2009)                                                  0.273989   \n10 Cloverfield Lane (2016)                                                  -0.005799   \n10 Things I Hate About You (1999)                                            1.000000   \n10,000 BC (2008)                                                             0.244670   \n101 Dalmatians (1996)                                                        0.223481   \n101 Dalmatians (One Hundred and One Dalmatians)...                           0.211473   \n12 Angry Men (1957)                                                          0.011784   \n12 Years a Slave (2013)                                                      0.091964   \n127 Hours (2010)                                                             0.043383   \n\ntitle                                               10,000 BC (2008)  \\\ntitle                                                                  \n'burbs, The (1989)                                          0.011998   \n(500) Days of Summer (2009)                                 0.193960   \n10 Cloverfield Lane (2016)                                  0.112396   \n10 Things I Hate About You (1999)                           0.244670   \n10,000 BC (2008)                                            1.000000   \n101 Dalmatians (1996)                                       0.234459   \n101 Dalmatians (One Hundred and One Dalmatians)...          0.119132   \n12 Angry Men (1957)                                         0.059187   \n12 Years a Slave (2013)                                    -0.025882   \n127 Hours (2010)                                            0.089328   \n\ntitle                                               101 Dalmatians (1996)  \\\ntitle                                                                       \n'burbs, The (1989)                                               0.087931   \n(500) Days of Summer (2009)                                      0.148903   \n10 Cloverfield Lane (2016)                                       0.006139   \n10 Things I Hate About You (1999)                                0.223481   \n10,000 BC (2008)                                                 0.234459   \n101 Dalmatians (1996)                                            1.000000   \n101 Dalmatians (One Hundred and One Dalmatians)...               0.285112   \n12 Angry Men (1957)                                              0.119843   \n12 Years a Slave (2013)                                          0.072399   \n127 Hours (2010)                                                 0.029967   \n\ntitle                                               101 Dalmatians (One Hundred and One Dalmatians) (1961)  \\\ntitle                                                                                                        \n'burbs, The (1989)                                                                           0.224052        \n(500) Days of Summer (2009)                                                                  0.142141        \n10 Cloverfield Lane (2016)                                                                  -0.016835        \n10 Things I Hate About You (1999)                                                            0.211473        \n10,000 BC (2008)                                                                             0.119132        \n101 Dalmatians (1996)                                                                        0.285112        \n101 Dalmatians (One Hundred and One Dalmatians)...                                           1.000000        \n12 Angry Men (1957)                                                                          0.134037        \n12 Years a Slave (2013)                                                                      0.017264        \n127 Hours (2010)                                                                            -0.046277        \n\ntitle                                               12 Angry Men (1957)  \\\ntitle                                                                     \n'burbs, The (1989)                                             0.034223   \n(500) Days of Summer (2009)                                    0.159756   \n10 Cloverfield Lane (2016)                                     0.031704   \n10 Things I Hate About You (1999)                              0.011784   \n10,000 BC (2008)                                               0.059187   \n101 Dalmatians (1996)                                          0.119843   \n101 Dalmatians (One Hundred and One Dalmatians)...             0.134037   \n12 Angry Men (1957)                                            1.000000   \n12 Years a Slave (2013)                                        0.132979   \n127 Hours (2010)                                               0.058862   \n\ntitle                                               12 Years a Slave (2013)  \\\ntitle                                                                         \n'burbs, The (1989)                                                 0.009277   \n(500) Days of Summer (2009)                                        0.135486   \n10 Cloverfield Lane (2016)                                        -0.024275   \n10 Things I Hate About You (1999)                                  0.091964   \n10,000 BC (2008)                                                  -0.025882   \n101 Dalmatians (1996)                                              0.072399   \n101 Dalmatians (One Hundred and One Dalmatians)...                 0.017264   \n12 Angry Men (1957)                                                0.132979   \n12 Years a Slave (2013)                                            1.000000   \n127 Hours (2010)                                                   0.249931   \n\ntitle                                               127 Hours (2010)  ...  \\\ntitle                                                                 ...   \n'burbs, The (1989)                                          0.008331  ...   \n(500) Days of Summer (2009)                                 0.200135  ...   \n10 Cloverfield Lane (2016)                                  0.272943  ...   \n10 Things I Hate About You (1999)                           0.043383  ...   \n10,000 BC (2008)                                            0.089328  ...   \n101 Dalmatians (1996)                                       0.029967  ...   \n101 Dalmatians (One Hundred and One Dalmatians)...         -0.046277  ...   \n12 Angry Men (1957)                                         0.058862  ...   \n12 Years a Slave (2013)                                     0.249931  ...   \n127 Hours (2010)                                            1.000000  ...   \n\ntitle                                               Zack and Miri Make a Porno (2008)  \\\ntitle                                                                                   \n'burbs, The (1989)                                                           0.017477   \n(500) Days of Summer (2009)                                                  0.374515   \n10 Cloverfield Lane (2016)                                                   0.242663   \n10 Things I Hate About You (1999)                                            0.243118   \n10,000 BC (2008)                                                             0.260261   \n101 Dalmatians (1996)                                                        0.114968   \n101 Dalmatians (One Hundred and One Dalmatians)...                           0.120302   \n12 Angry Men (1957)                                                          0.104518   \n12 Years a Slave (2013)                                                      0.024045   \n127 Hours (2010)                                                             0.223135   \n\ntitle                                               Zero Dark Thirty (2012)  \\\ntitle                                                                         \n'burbs, The (1989)                                                 0.032470   \n(500) Days of Summer (2009)                                        0.178655   \n10 Cloverfield Lane (2016)                                         0.099059   \n10 Things I Hate About You (1999)                                  0.104858   \n10,000 BC (2008)                                                   0.087592   \n101 Dalmatians (1996)                                              0.077232   \n101 Dalmatians (One Hundred and One Dalmatians)...                 0.125816   \n12 Angry Men (1957)                                                0.028415   \n12 Years a Slave (2013)                                            0.038127   \n127 Hours (2010)                                                   0.154299   \n\ntitle                                               Zero Effect (1998)  \\\ntitle                                                                    \n'burbs, The (1989)                                            0.134701   \n(500) Days of Summer (2009)                                   0.068407   \n10 Cloverfield Lane (2016)                                   -0.023477   \n10 Things I Hate About You (1999)                             0.132460   \n10,000 BC (2008)                                              0.094913   \n101 Dalmatians (1996)                                         0.096294   \n101 Dalmatians (One Hundred and One Dalmatians)...            0.049818   \n12 Angry Men (1957)                                           0.079905   \n12 Years a Slave (2013)                                       0.013786   \n127 Hours (2010)                                              0.012907   \n\ntitle                                               Zodiac (2007)  \\\ntitle                                                               \n'burbs, The (1989)                                       0.153158   \n(500) Days of Summer (2009)                              0.414585   \n10 Cloverfield Lane (2016)                               0.272347   \n10 Things I Hate About You (1999)                        0.091853   \n10,000 BC (2008)                                         0.184521   \n101 Dalmatians (1996)                                    0.067134   \n101 Dalmatians (One Hundred and One Dalmatians)...       0.083650   \n12 Angry Men (1957)                                      0.241435   \n12 Years a Slave (2013)                                  0.190366   \n127 Hours (2010)                                         0.364841   \n\ntitle                                               Zombieland (2009)  \\\ntitle                                                                   \n'burbs, The (1989)                                           0.101301   \n(500) Days of Summer (2009)                                  0.355723   \n10 Cloverfield Lane (2016)                                   0.241751   \n10 Things I Hate About You (1999)                            0.158637   \n10,000 BC (2008)                                             0.242299   \n101 Dalmatians (1996)                                        0.113224   \n101 Dalmatians (One Hundred and One Dalmatians)...           0.171654   \n12 Angry Men (1957)                                          0.144652   \n12 Years a Slave (2013)                                      0.104150   \n127 Hours (2010)                                             0.198926   \n\ntitle                                               Zoolander (2001)  \\\ntitle                                                                  \n'burbs, The (1989)                                          0.049897   \n(500) Days of Summer (2009)                                 0.252226   \n10 Cloverfield Lane (2016)                                  0.195054   \n10 Things I Hate About You (1999)                           0.281934   \n10,000 BC (2008)                                            0.240231   \n101 Dalmatians (1996)                                       0.184324   \n101 Dalmatians (One Hundred and One Dalmatians)...          0.274260   \n12 Angry Men (1957)                                         0.122107   \n12 Years a Slave (2013)                                     0.017351   \n127 Hours (2010)                                            0.091416   \n\ntitle                                               Zootopia (2016)  \\\ntitle                                                                 \n'burbs, The (1989)                                         0.003233   \n(500) Days of Summer (2009)                                0.216007   \n10 Cloverfield Lane (2016)                                 0.319371   \n10 Things I Hate About You (1999)                          0.050031   \n10,000 BC (2008)                                           0.094773   \n101 Dalmatians (1996)                                      0.054024   \n101 Dalmatians (One Hundred and One Dalmatians)...         0.077594   \n12 Angry Men (1957)                                        0.056742   \n12 Years a Slave (2013)                                    0.063325   \n127 Hours (2010)                                           0.225747   \n\ntitle                                               eXistenZ (1999)  \\\ntitle                                                                 \n'burbs, The (1989)                                         0.187953   \n(500) Days of Summer (2009)                                0.053614   \n10 Cloverfield Lane (2016)                                 0.177846   \n10 Things I Hate About You (1999)                          0.121029   \n10,000 BC (2008)                                           0.088045   \n101 Dalmatians (1996)                                      0.047804   \n101 Dalmatians (One Hundred and One Dalmatians)...         0.085606   \n12 Angry Men (1957)                                       -0.001708   \n12 Years a Slave (2013)                                    0.002528   \n127 Hours (2010)                                           0.128638   \n\ntitle                                               xXx (2002)  \\\ntitle                                                            \n'burbs, The (1989)                                    0.062174   \n(500) Days of Summer (2009)                           0.241092   \n10 Cloverfield Lane (2016)                            0.096638   \n10 Things I Hate About You (1999)                     0.130813   \n10,000 BC (2008)                                      0.203002   \n101 Dalmatians (1996)                                 0.156932   \n101 Dalmatians (One Hundred and One Dalmatians)...    0.248820   \n12 Angry Men (1957)                                   0.074306   \n12 Years a Slave (2013)                               0.037469   \n127 Hours (2010)                                      0.153335   \n\ntitle                                               ¡Three Amigos! (1986)  \ntitle                                                                      \n'burbs, The (1989)                                               0.353194  \n(500) Days of Summer (2009)                                      0.125905  \n10 Cloverfield Lane (2016)                                       0.002733  \n10 Things I Hate About You (1999)                                0.110612  \n10,000 BC (2008)                                                 0.083518  \n101 Dalmatians (1996)                                            0.078734  \n101 Dalmatians (One Hundred and One Dalmatians)...               0.171118  \n12 Angry Men (1957)                                              0.102744  \n12 Years a Slave (2013)                                          0.004213  \n127 Hours (2010)                                                 0.002912  \n\n[10 rows x 2269 columns]",
      "text/html": "<div>\n<style scoped>\n    .dataframe tbody tr th:only-of-type {\n        vertical-align: middle;\n    }\n\n    .dataframe tbody tr th {\n        vertical-align: top;\n    }\n\n    .dataframe thead th {\n        text-align: right;\n    }\n</style>\n<table border=\"1\" class=\"dataframe\">\n  <thead>\n    <tr style=\"text-align: right;\">\n      <th>title</th>\n      <th>'burbs, The (1989)</th>\n      <th>(500) Days of Summer (2009)</th>\n      <th>10 Cloverfield Lane (2016)</th>\n      <th>10 Things I Hate About You (1999)</th>\n      <th>10,000 BC (2008)</th>\n      <th>101 Dalmatians (1996)</th>\n      <th>101 Dalmatians (One Hundred and One Dalmatians) (1961)</th>\n      <th>12 Angry Men (1957)</th>\n      <th>12 Years a Slave (2013)</th>\n      <th>127 Hours (2010)</th>\n      <th>...</th>\n      <th>Zack and Miri Make a Porno (2008)</th>\n      <th>Zero Dark Thirty (2012)</th>\n      <th>Zero Effect (1998)</th>\n      <th>Zodiac (2007)</th>\n      <th>Zombieland (2009)</th>\n      <th>Zoolander (2001)</th>\n      <th>Zootopia (2016)</th>\n      <th>eXistenZ (1999)</th>\n      <th>xXx (2002)</th>\n      <th>¡Three Amigos! (1986)</th>\n    </tr>\n    <tr>\n      <th>title</th>\n      <th></th>\n      <th></th>\n      <th></th>\n      <th></th>\n      <th></th>\n      <th></th>\n      <th></th>\n      <th></th>\n      <th></th>\n      <th></th>\n      <th></th>\n      <th></th>\n      <th></th>\n      <th></th>\n      <th></th>\n      <th></th>\n      <th></th>\n      <th></th>\n      <th></th>\n      <th></th>\n      <th></th>\n    </tr>\n  </thead>\n  <tbody>\n    <tr>\n      <th>'burbs, The (1989)</th>\n      <td>1.000000</td>\n      <td>0.063117</td>\n      <td>-0.023768</td>\n      <td>0.143482</td>\n      <td>0.011998</td>\n      <td>0.087931</td>\n      <td>0.224052</td>\n      <td>0.034223</td>\n      <td>0.009277</td>\n      <td>0.008331</td>\n      <td>...</td>\n      <td>0.017477</td>\n      <td>0.032470</td>\n      <td>0.134701</td>\n      <td>0.153158</td>\n      <td>0.101301</td>\n      <td>0.049897</td>\n      <td>0.003233</td>\n      <td>0.187953</td>\n      <td>0.062174</td>\n      <td>0.353194</td>\n    </tr>\n    <tr>\n      <th>(500) Days of Summer (2009)</th>\n      <td>0.063117</td>\n      <td>1.000000</td>\n      <td>0.142471</td>\n      <td>0.273989</td>\n      <td>0.193960</td>\n      <td>0.148903</td>\n      <td>0.142141</td>\n      <td>0.159756</td>\n      <td>0.135486</td>\n      <td>0.200135</td>\n      <td>...</td>\n      <td>0.374515</td>\n      <td>0.178655</td>\n      <td>0.068407</td>\n      <td>0.414585</td>\n      <td>0.355723</td>\n      <td>0.252226</td>\n      <td>0.216007</td>\n      <td>0.053614</td>\n      <td>0.241092</td>\n      <td>0.125905</td>\n    </tr>\n    <tr>\n      <th>10 Cloverfield Lane (2016)</th>\n      <td>-0.023768</td>\n      <td>0.142471</td>\n      <td>1.000000</td>\n      <td>-0.005799</td>\n      <td>0.112396</td>\n      <td>0.006139</td>\n      <td>-0.016835</td>\n      <td>0.031704</td>\n      <td>-0.024275</td>\n      <td>0.272943</td>\n      <td>...</td>\n      <td>0.242663</td>\n      <td>0.099059</td>\n      <td>-0.023477</td>\n      <td>0.272347</td>\n      <td>0.241751</td>\n      <td>0.195054</td>\n      <td>0.319371</td>\n      <td>0.177846</td>\n      <td>0.096638</td>\n      <td>0.002733</td>\n    </tr>\n    <tr>\n      <th>10 Things I Hate About You (1999)</th>\n      <td>0.143482</td>\n      <td>0.273989</td>\n      <td>-0.005799</td>\n      <td>1.000000</td>\n      <td>0.244670</td>\n      <td>0.223481</td>\n      <td>0.211473</td>\n      <td>0.011784</td>\n      <td>0.091964</td>\n      <td>0.043383</td>\n      <td>...</td>\n      <td>0.243118</td>\n      <td>0.104858</td>\n      <td>0.132460</td>\n      <td>0.091853</td>\n      <td>0.158637</td>\n      <td>0.281934</td>\n      <td>0.050031</td>\n      <td>0.121029</td>\n      <td>0.130813</td>\n      <td>0.110612</td>\n    </tr>\n    <tr>\n      <th>10,000 BC (2008)</th>\n      <td>0.011998</td>\n      <td>0.193960</td>\n      <td>0.112396</td>\n      <td>0.244670</td>\n      <td>1.000000</td>\n      <td>0.234459</td>\n      <td>0.119132</td>\n      <td>0.059187</td>\n      <td>-0.025882</td>\n      <td>0.089328</td>\n      <td>...</td>\n      <td>0.260261</td>\n      <td>0.087592</td>\n      <td>0.094913</td>\n      <td>0.184521</td>\n      <td>0.242299</td>\n      <td>0.240231</td>\n      <td>0.094773</td>\n      <td>0.088045</td>\n      <td>0.203002</td>\n      <td>0.083518</td>\n    </tr>\n    <tr>\n      <th>101 Dalmatians (1996)</th>\n      <td>0.087931</td>\n      <td>0.148903</td>\n      <td>0.006139</td>\n      <td>0.223481</td>\n      <td>0.234459</td>\n      <td>1.000000</td>\n      <td>0.285112</td>\n      <td>0.119843</td>\n      <td>0.072399</td>\n      <td>0.029967</td>\n      <td>...</td>\n      <td>0.114968</td>\n      <td>0.077232</td>\n      <td>0.096294</td>\n      <td>0.067134</td>\n      <td>0.113224</td>\n      <td>0.184324</td>\n      <td>0.054024</td>\n      <td>0.047804</td>\n      <td>0.156932</td>\n      <td>0.078734</td>\n    </tr>\n    <tr>\n      <th>101 Dalmatians (One Hundred and One Dalmatians) (1961)</th>\n      <td>0.224052</td>\n      <td>0.142141</td>\n      <td>-0.016835</td>\n      <td>0.211473</td>\n      <td>0.119132</td>\n      <td>0.285112</td>\n      <td>1.000000</td>\n      <td>0.134037</td>\n      <td>0.017264</td>\n      <td>-0.046277</td>\n      <td>...</td>\n      <td>0.120302</td>\n      <td>0.125816</td>\n      <td>0.049818</td>\n      <td>0.083650</td>\n      <td>0.171654</td>\n      <td>0.274260</td>\n      <td>0.077594</td>\n      <td>0.085606</td>\n      <td>0.248820</td>\n      <td>0.171118</td>\n    </tr>\n    <tr>\n      <th>12 Angry Men (1957)</th>\n      <td>0.034223</td>\n      <td>0.159756</td>\n      <td>0.031704</td>\n      <td>0.011784</td>\n      <td>0.059187</td>\n      <td>0.119843</td>\n      <td>0.134037</td>\n      <td>1.000000</td>\n      <td>0.132979</td>\n      <td>0.058862</td>\n      <td>...</td>\n      <td>0.104518</td>\n      <td>0.028415</td>\n      <td>0.079905</td>\n      <td>0.241435</td>\n      <td>0.144652</td>\n      <td>0.122107</td>\n      <td>0.056742</td>\n      <td>-0.001708</td>\n      <td>0.074306</td>\n      <td>0.102744</td>\n    </tr>\n    <tr>\n      <th>12 Years a Slave (2013)</th>\n      <td>0.009277</td>\n      <td>0.135486</td>\n      <td>-0.024275</td>\n      <td>0.091964</td>\n      <td>-0.025882</td>\n      <td>0.072399</td>\n      <td>0.017264</td>\n      <td>0.132979</td>\n      <td>1.000000</td>\n      <td>0.249931</td>\n      <td>...</td>\n      <td>0.024045</td>\n      <td>0.038127</td>\n      <td>0.013786</td>\n      <td>0.190366</td>\n      <td>0.104150</td>\n      <td>0.017351</td>\n      <td>0.063325</td>\n      <td>0.002528</td>\n      <td>0.037469</td>\n      <td>0.004213</td>\n    </tr>\n    <tr>\n      <th>127 Hours (2010)</th>\n      <td>0.008331</td>\n      <td>0.200135</td>\n      <td>0.272943</td>\n      <td>0.043383</td>\n      <td>0.089328</td>\n      <td>0.029967</td>\n      <td>-0.046277</td>\n      <td>0.058862</td>\n      <td>0.249931</td>\n      <td>1.000000</td>\n      <td>...</td>\n      <td>0.223135</td>\n      <td>0.154299</td>\n      <td>0.012907</td>\n      <td>0.364841</td>\n      <td>0.198926</td>\n      <td>0.091416</td>\n      <td>0.225747</td>\n      <td>0.128638</td>\n      <td>0.153335</td>\n      <td>0.002912</td>\n    </tr>\n  </tbody>\n</table>\n<p>10 rows × 2269 columns</p>\n</div>"
     },
     "execution_count": 24,
     "metadata": {},
     "output_type": "execute_result"
    }
   ],
   "source": [
    "correlationMatrix = userRatings.corr(method='pearson')\n",
    "correlationMatrix.head(10)"
   ],
   "metadata": {
    "collapsed": false,
    "pycharm": {
     "name": "#%%\n"
    }
   }
  },
  {
   "cell_type": "code",
   "execution_count": 25,
   "outputs": [],
   "source": [
    "def find_similar_ratings(name_Of_movie,rate):\n",
    "    similar_ratings = correlationMatrix[name_Of_movie]*(rate-2.5)\n",
    "    similar_ratings = similar_ratings.sort_values(ascending=False)\n",
    "    return similar_ratings"
   ],
   "metadata": {
    "collapsed": false,
    "pycharm": {
     "name": "#%%\n"
    }
   }
  },
  {
   "cell_type": "code",
   "execution_count": 26,
   "outputs": [],
   "source": [
    "def recommend(list_Of_movie_and_rates):\n",
    "    similar_movies = pd.DataFrame()\n",
    "    for movie,rating in list_Of_movie_and_rates:\n",
    "        similar_movies = similar_movies.append(find_similar_ratings(movie,rating),ignore_index=True)\n",
    "    similar_movies=similar_movies.sum().sort_values(ascending=False)\n",
    "    return similar_movies;"
   ],
   "metadata": {
    "collapsed": false,
    "pycharm": {
     "name": "#%%\n"
    }
   }
  },
  {
   "cell_type": "code",
   "execution_count": 27,
   "outputs": [
    {
     "data": {
      "text/plain": "Easy A (2010)                                   2.716848\nUgly Truth, The (2009)                          1.647418\nLegally Blonde 2: Red, White & Blonde (2003)    1.347922\nHoliday, The (2006)                             1.280406\nHow to Lose a Guy in 10 Days (2003)             1.206814\nNeighbors (2014)                                1.199275\n21 Jump Street (2012)                           1.196354\nGirl Next Door, The (2004)                      1.175435\nCrazy, Stupid, Love. (2011)                     1.167047\nTwilight Saga: Eclipse, The (2010)              1.166372\nPride & Prejudice (2005)                        1.166267\nWalk to Remember, A (2002)                      1.165375\n27 Dresses (2008)                               1.161907\nProposal, The (2009)                            1.117105\nEnchanted (2007)                                1.102815\n17 Again (2009)                                 1.077869\nMean Girls (2004)                               1.068145\nFriends with Benefits (2011)                    1.051814\nPitch Perfect (2012)                            1.044682\nHairspray (2007)                                1.028192\nMamma Mia! (2008)                               1.021605\nBrave (2012)                                    1.011186\n10 Things I Hate About You (1999)               0.994966\nTangled (2010)                                  0.988254\nBridesmaids (2011)                              0.986068\nChange-Up, The (2011)                           0.983174\nDate Night (2010)                               0.975382\nHelp, The (2011)                                0.974753\nMegamind (2010)                                 0.973817\nAccepted (2006)                                 0.943884\ndtype: float64"
     },
     "execution_count": 27,
     "metadata": {},
     "output_type": "execute_result"
    }
   ],
   "source": [
    "#romance lover test 1\n",
    "firstPerson=[(\"Easy A (2010)\",5),(\"Ugly Truth, The (2009)\",3),(\"Aliens (1986)\",1),(\"2001: A Space Odyssey (1968)\",2)]\n",
    "recommend(firstPerson).head(30)"
   ],
   "metadata": {
    "collapsed": false,
    "pycharm": {
     "name": "#%%\n"
    }
   }
  },
  {
   "cell_type": "code",
   "execution_count": 28,
   "outputs": [
    {
     "data": {
      "text/plain": "Amazing Spider-Man, The (2012)                                                 2.840940\nMission: Impossible III (2006)                                                 2.536540\n2 Fast 2 Furious (Fast and the Furious 2, The) (2003)                          2.483356\nCrank (2006)                                                                   1.917487\nTron: Legacy (2010)                                                            1.903291\nOver the Hedge (2006)                                                          1.901715\nKung Fu Hustle (Gong fu) (2004)                                                1.891283\nChronicles of Riddick, The (2004)                                              1.881505\nSnakes on a Plane (2006)                                                       1.876731\nHellboy (2004)                                                                 1.859995\nHancock (2008)                                                                 1.799465\nMission: Impossible - Ghost Protocol (2011)                                    1.783841\nGodzilla (2014)                                                                1.781399\nJumper (2008)                                                                  1.772638\nFast and the Furious, The (2001)                                               1.768010\nThe Amazing Spider-Man 2 (2014)                                                1.763534\nWorld War Z (2013)                                                             1.751809\nWreck-It Ralph (2012)                                                          1.749737\nDredd (2012)                                                                   1.748766\nX-Men: The Last Stand (2006)                                                   1.739557\nS.W.A.T. (2003)                                                                1.725688\nFantastic Four (2005)                                                          1.721040\nFast Five (Fast and the Furious 5, The) (2011)                                 1.709925\nGet Smart (2008)                                                               1.707548\nPredators (2010)                                                               1.706533\nFast & Furious (Fast and the Furious 4, The) (2009)                            1.706142\nRundown, The (2003)                                                            1.692092\nDawn of the Planet of the Apes (2014)                                          1.676168\nMr. Deeds (2002)                                                               1.665241\nFast and the Furious: Tokyo Drift, The (Fast and the Furious 3, The) (2006)    1.662354\ndtype: float64"
     },
     "execution_count": 28,
     "metadata": {},
     "output_type": "execute_result"
    }
   ],
   "source": [
    "#action lover test 2\n",
    "secondPerson= [(\"Amazing Spider-Man, The (2012)\",5),(\"Mission: Impossible III (2006)\",4),(\"Toy Story 3 (2010)\",1),(\"2 Fast 2 Furious (Fast and the Furious 2, The) (2003)\",4)]\n",
    "recommend(secondPerson).head(30)"
   ],
   "metadata": {
    "collapsed": false,
    "pycharm": {
     "name": "#%%\n"
    }
   }
  }
 ],
 "metadata": {
  "kernelspec": {
   "display_name": "Python 3",
   "language": "python",
   "name": "python3"
  },
  "language_info": {
   "codemirror_mode": {
    "name": "ipython",
    "version": 2
   },
   "file_extension": ".py",
   "mimetype": "text/x-python",
   "name": "python",
   "nbconvert_exporter": "python",
   "pygments_lexer": "ipython2",
   "version": "2.7.6"
  }
 },
 "nbformat": 4,
 "nbformat_minor": 0
}